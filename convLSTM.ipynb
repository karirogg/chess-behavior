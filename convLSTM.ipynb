{
  "cells": [
    {
      "cell_type": "code",
      "execution_count": 1,
      "metadata": {
        "id": "rSD4F8BT-lJR",
        "colab": {
          "base_uri": "https://localhost:8080/"
        },
        "outputId": "98da513e-2249-45b0-a307-60e185c66b08"
      },
      "outputs": [
        {
          "output_type": "stream",
          "name": "stdout",
          "text": [
            "Mounted at /content/drive\n"
          ]
        }
      ],
      "source": [
        "from google.colab import drive\n",
        "drive.mount('/content/drive')"
      ]
    },
    {
      "cell_type": "code",
      "execution_count": 2,
      "metadata": {
        "id": "YMNcz6V_WGNX"
      },
      "outputs": [],
      "source": [
        "import numpy as np\n",
        "import torch\n",
        "import pickle\n",
        "\n",
        "f = open(\"/content/drive/MyDrive/djup/lokaverkefni/training_data_2019_data_100000_50.dat\", \"rb\")\n",
        "seen_players, unseen_players, X_seen_train, y_seen_train, X_seen_val, y_seen_val, X_seen_for_embeds, y_seen_for_embeds, X_seen_test, y_seen_test, X_unseen_for_embeds, y_unseen_for_embeds, X_unseen_test, y_unseen_test = pickle.load(f)"
      ]
    },
    {
      "cell_type": "markdown",
      "metadata": {
        "id": "mg4EogeBmiKm"
      },
      "source": [
        "## Summary of game tensor\n",
        "\n",
        "The output of `lcz_features` is explained here. Here, `game[0]` is used for reference.\n",
        "\n",
        "- `game[0][0]`: Black's pawns\n",
        "- `game[0][1]`: Black's knights\n",
        "- `game[0][2]`: Black's bishops\n",
        "- `game[0][3]`: Black's rooks\n",
        "- `game[0][4]`: Black's queen\n",
        "- `game[0][5]`: Black's king\n",
        "- `game[0][6:11]`: White pieces (in same order as above)\n",
        "- `game[0][12]`: Channel with only zeros\n",
        "- `game[0][13:24]`: The board state before the given game was played.\n",
        "- `game[0][25:111]`: Channels that only include 0 or only include 1. These are to tell if the white pieces may castle and on which sides and if the black pieces can do so, if there are repeated moves, 50 move rule etc.\n",
        "\n",
        "\n",
        "\n",
        "\n"
      ]
    },
    {
      "cell_type": "markdown",
      "metadata": {
        "id": "BcQ4qoRhu-30"
      },
      "source": [
        "## Model config\n"
      ]
    },
    {
      "cell_type": "code",
      "execution_count": 3,
      "metadata": {
        "id": "09-xrASyGM_3"
      },
      "outputs": [],
      "source": [
        "%%capture\n",
        "!pip install pytorch_lightning torchmetrics wandb python-chess"
      ]
    },
    {
      "cell_type": "code",
      "execution_count": 4,
      "metadata": {
        "id": "uQ7ur-Mg2gtm"
      },
      "outputs": [],
      "source": [
        "import os\n",
        "\n",
        "os.environ[\"WANDB_NOTEBOOK_NAME\"] = \"Djúpt lokaverkefni\""
      ]
    },
    {
      "cell_type": "code",
      "execution_count": 5,
      "metadata": {
        "colab": {
          "base_uri": "https://localhost:8080/",
          "height": 88
        },
        "id": "m2aOrBWbi2HJ",
        "outputId": "5444d35a-b60e-4c33-cda7-c0428bd1de7d"
      },
      "outputs": [
        {
          "output_type": "stream",
          "name": "stderr",
          "text": [
            "\u001b[34m\u001b[1mwandb\u001b[0m: \u001b[33mWARNING\u001b[0m WANDB_NOTEBOOK_NAME should be a path to a notebook file, couldn't find Djúpt lokaverkefni.\n"
          ]
        },
        {
          "output_type": "display_data",
          "data": {
            "text/plain": [
              "<IPython.core.display.Javascript object>"
            ],
            "application/javascript": [
              "\n",
              "        window._wandbApiKey = new Promise((resolve, reject) => {\n",
              "            function loadScript(url) {\n",
              "            return new Promise(function(resolve, reject) {\n",
              "                let newScript = document.createElement(\"script\");\n",
              "                newScript.onerror = reject;\n",
              "                newScript.onload = resolve;\n",
              "                document.body.appendChild(newScript);\n",
              "                newScript.src = url;\n",
              "            });\n",
              "            }\n",
              "            loadScript(\"https://cdn.jsdelivr.net/npm/postmate/build/postmate.min.js\").then(() => {\n",
              "            const iframe = document.createElement('iframe')\n",
              "            iframe.style.cssText = \"width:0;height:0;border:none\"\n",
              "            document.body.appendChild(iframe)\n",
              "            const handshake = new Postmate({\n",
              "                container: iframe,\n",
              "                url: 'https://wandb.ai/authorize'\n",
              "            });\n",
              "            const timeout = setTimeout(() => reject(\"Couldn't auto authenticate\"), 5000)\n",
              "            handshake.then(function(child) {\n",
              "                child.on('authorize', data => {\n",
              "                    clearTimeout(timeout)\n",
              "                    resolve(data)\n",
              "                });\n",
              "            });\n",
              "            })\n",
              "        });\n",
              "    "
            ]
          },
          "metadata": {}
        },
        {
          "output_type": "stream",
          "name": "stderr",
          "text": [
            "\u001b[34m\u001b[1mwandb\u001b[0m: Appending key for api.wandb.ai to your netrc file: /root/.netrc\n"
          ]
        },
        {
          "output_type": "execute_result",
          "data": {
            "text/plain": [
              "True"
            ]
          },
          "metadata": {},
          "execution_count": 5
        }
      ],
      "source": [
        "import wandb\n",
        "\n",
        "wandb.login()"
      ]
    },
    {
      "cell_type": "code",
      "execution_count": 6,
      "metadata": {
        "colab": {
          "base_uri": "https://localhost:8080/",
          "height": 87
        },
        "id": "QYKHG_0BkcE_",
        "outputId": "a5dd60cd-f6ca-4488-b9e7-818295787075"
      },
      "outputs": [
        {
          "output_type": "stream",
          "name": "stderr",
          "text": [
            "\u001b[34m\u001b[1mwandb\u001b[0m: Currently logged in as: \u001b[33mkarirogg\u001b[0m (\u001b[33mipynb\u001b[0m). Use \u001b[1m`wandb login --relogin`\u001b[0m to force relogin\n"
          ]
        },
        {
          "output_type": "display_data",
          "data": {
            "text/plain": [
              "<IPython.core.display.HTML object>"
            ],
            "text/html": [
              "Tracking run with wandb version 0.13.5"
            ]
          },
          "metadata": {}
        },
        {
          "output_type": "display_data",
          "data": {
            "text/plain": [
              "<IPython.core.display.HTML object>"
            ],
            "text/html": [
              "Run data is saved locally in <code>./wandb/run-20221124_150222-3pn5knsl</code>"
            ]
          },
          "metadata": {}
        },
        {
          "output_type": "display_data",
          "data": {
            "text/plain": [
              "<IPython.core.display.HTML object>"
            ],
            "text/html": [
              "Syncing run <strong><a href=\"https://wandb.ai/ipynb/lightning_logs/runs/3pn5knsl\" target=\"_blank\">fearless-leaf-49</a></strong> to <a href=\"https://wandb.ai/ipynb/lightning_logs\" target=\"_blank\">Weights & Biases</a> (<a href=\"https://wandb.me/run\" target=\"_blank\">docs</a>)<br/>"
            ]
          },
          "metadata": {}
        }
      ],
      "source": [
        "from pytorch_lightning.loggers import WandbLogger\n",
        "\n",
        "wandb_logger = WandbLogger()"
      ]
    },
    {
      "cell_type": "markdown",
      "metadata": {
        "id": "ePLBhEe1XdPe"
      },
      "source": [
        "## Using Generalized end 2 end loss"
      ]
    },
    {
      "cell_type": "code",
      "execution_count": 7,
      "metadata": {
        "id": "62Au_TFPRFDf"
      },
      "outputs": [],
      "source": [
        "def games_to_planes(games, max_moves = 10, black = False):\n",
        "  \"\"\"\n",
        "  Function that takes in a N x n numpy dataframe, where N is the number of games and n is the number of moves\n",
        "  per game, and returns a 24 x 8 x 8 representation of each move, in tensor form.\n",
        "  \"\"\"\n",
        "  games_planes_list = []\n",
        "  for game in games:\n",
        "    board = LeelaBoard()\n",
        "    current_planes = []\n",
        "    for i, move in enumerate(game):\n",
        "      if i == 2*20:\n",
        "        break\n",
        "      board.push_uci(str(move))\n",
        "      current_planes.append(board.lcz_features()[:25])\n",
        "\n",
        "    # random_idx = sorted(np.random.choice(np.arange(20), max_moves, replace=False))\n",
        "\n",
        "    if black:\n",
        "      games_planes_list.append(np.array(current_planes)[::2][np.arange(max_moves)])\n",
        "    else:\n",
        "      games_planes_list.append(np.array(current_planes)[1::2][np.arange(max_moves)])\n",
        "\n",
        "  return torch.tensor(np.array(games_planes_list))"
      ]
    },
    {
      "cell_type": "code",
      "execution_count": 8,
      "metadata": {
        "id": "IMy9HefaHUaM"
      },
      "outputs": [],
      "source": [
        "player_white_games = dict()\n",
        "player_black_games = dict()\n",
        "\n",
        "used_player_list = []\n",
        "\n",
        "targets = y_seen_train[:, [0,2]]\n",
        "\n",
        "for j in np.unique(targets):\n",
        "  player_white_games[j] = X_seen_train[targets[:,0] == j]\n",
        "  player_black_games[j] = X_seen_train[targets[:,1] == j]"
      ]
    },
    {
      "cell_type": "code",
      "execution_count": 9,
      "metadata": {
        "id": "38YNvzv0wGXC"
      },
      "outputs": [],
      "source": [
        "class Baukur:\n",
        "  \"\"\"\n",
        "  Dataloader for the data. In each iteration, N players are sampled and M games per player. The games are then turned into a planes tensor for model input.\n",
        "  \"\"\"\n",
        "  def __init__(self, games, targets, players, player_white_games, player_black_games, N, M):\n",
        "    self.games = games\n",
        "    self.targets = targets\n",
        "    self.N = N\n",
        "    self.M = M\n",
        "\n",
        "    self.players = players\n",
        "\n",
        "    self.player_white_games = player_white_games\n",
        "    self.player_black_games = player_black_games\n",
        "\n",
        "  def __iter__(self):\n",
        "    return self\n",
        "\n",
        "  def __next__(self):\n",
        "    observation_list = []\n",
        "\n",
        "    selected_players_idx = np.random.choice(range(len(self.players)), self.N)\n",
        "\n",
        "    for j in self.players[selected_players_idx]:\n",
        "      selected_games_idx = np.random.choice(range(len(self.player_white_games[j]) + len(self.player_black_games[j])), self.M, replace=False)\n",
        "      selected_white_games = self.player_white_games[j][selected_games_idx[selected_games_idx < len(self.player_white_games[j])]]\n",
        "      selected_black_games = self.player_black_games[j][selected_games_idx[selected_games_idx >= len(self.player_white_games[j])] - len(self.player_white_games[j])]\n",
        "\n",
        "      selected_games_planes = torch.cat((games_to_planes(selected_white_games, black = False), games_to_planes(selected_black_games, black = True)), dim=0)\n",
        "\n",
        "      observation_list.append(selected_games_planes)\n",
        "\n",
        "    return torch.stack(observation_list), torch.tensor(self.players)\n",
        "\n",
        "train_dataloader = iter(Baukur(X_seen_train, y_seen_train[:, [0,2]], seen_players, player_white_games, player_black_games, 40, 20))"
      ]
    },
    {
      "cell_type": "code",
      "execution_count": 10,
      "metadata": {
        "cellView": "form",
        "id": "ZnLiR_mXyGZa"
      },
      "outputs": [],
      "source": [
        "#@title LeelaBoard class created\n",
        "\n",
        "# -*- coding: utf-8 -*-\n",
        "\n",
        "# uci_to_idx is a list of four dicts {uci -> NN policy index}\n",
        "# 0 = white, no-castling\n",
        "# 1 = white, castling\n",
        "# 2 = black, no-castling\n",
        "# 3 = black, castling\n",
        "# Black moves are flipped, and castling moves are mapped to the e8a8, e8h8, e1a1, e1h1 indexes\n",
        "#  from their respective UCI names\n",
        "\n",
        "uci_to_idx = []\n",
        "\n",
        "# The index-to-uci list originates from here:\n",
        "# https://github.com/glinscott/leela-chess/blob/master/lc0/src/chess/bitboard.cc\n",
        "\n",
        "# White, no-castling\n",
        "_idx_to_move_wn = [\n",
        "    'a1b1', 'a1c1', 'a1d1', 'a1e1', 'a1f1', 'a1g1', 'a1h1',\n",
        "    'a1a2', 'a1b2', 'a1c2', 'a1a3', 'a1b3', 'a1c3', 'a1a4',\n",
        "    'a1d4', 'a1a5', 'a1e5', 'a1a6', 'a1f6', 'a1a7', 'a1g7',\n",
        "    'a1a8', 'a1h8', 'b1a1', 'b1c1', 'b1d1', 'b1e1', 'b1f1',\n",
        "    'b1g1', 'b1h1', 'b1a2', 'b1b2', 'b1c2', 'b1d2', 'b1a3',\n",
        "    'b1b3', 'b1c3', 'b1d3', 'b1b4', 'b1e4', 'b1b5', 'b1f5',\n",
        "    'b1b6', 'b1g6', 'b1b7', 'b1h7', 'b1b8', 'c1a1', 'c1b1',\n",
        "    'c1d1', 'c1e1', 'c1f1', 'c1g1', 'c1h1', 'c1a2', 'c1b2',\n",
        "    'c1c2', 'c1d2', 'c1e2', 'c1a3', 'c1b3', 'c1c3', 'c1d3',\n",
        "    'c1e3', 'c1c4', 'c1f4', 'c1c5', 'c1g5', 'c1c6', 'c1h6',\n",
        "    'c1c7', 'c1c8', 'd1a1', 'd1b1', 'd1c1', 'd1e1', 'd1f1',\n",
        "    'd1g1', 'd1h1', 'd1b2', 'd1c2', 'd1d2', 'd1e2', 'd1f2',\n",
        "    'd1b3', 'd1c3', 'd1d3', 'd1e3', 'd1f3', 'd1a4', 'd1d4',\n",
        "    'd1g4', 'd1d5', 'd1h5', 'd1d6', 'd1d7', 'd1d8', 'e1a1',\n",
        "    'e1b1', 'e1c1', 'e1d1', 'e1f1', 'e1g1', 'e1h1', 'e1c2',\n",
        "    'e1d2', 'e1e2', 'e1f2', 'e1g2', 'e1c3', 'e1d3', 'e1e3',\n",
        "    'e1f3', 'e1g3', 'e1b4', 'e1e4', 'e1h4', 'e1a5', 'e1e5',\n",
        "    'e1e6', 'e1e7', 'e1e8', 'f1a1', 'f1b1', 'f1c1', 'f1d1',\n",
        "    'f1e1', 'f1g1', 'f1h1', 'f1d2', 'f1e2', 'f1f2', 'f1g2',\n",
        "    'f1h2', 'f1d3', 'f1e3', 'f1f3', 'f1g3', 'f1h3', 'f1c4',\n",
        "    'f1f4', 'f1b5', 'f1f5', 'f1a6', 'f1f6', 'f1f7', 'f1f8',\n",
        "    'g1a1', 'g1b1', 'g1c1', 'g1d1', 'g1e1', 'g1f1', 'g1h1',\n",
        "    'g1e2', 'g1f2', 'g1g2', 'g1h2', 'g1e3', 'g1f3', 'g1g3',\n",
        "    'g1h3', 'g1d4', 'g1g4', 'g1c5', 'g1g5', 'g1b6', 'g1g6',\n",
        "    'g1a7', 'g1g7', 'g1g8', 'h1a1', 'h1b1', 'h1c1', 'h1d1',\n",
        "    'h1e1', 'h1f1', 'h1g1', 'h1f2', 'h1g2', 'h1h2', 'h1f3',\n",
        "    'h1g3', 'h1h3', 'h1e4', 'h1h4', 'h1d5', 'h1h5', 'h1c6',\n",
        "    'h1h6', 'h1b7', 'h1h7', 'h1a8', 'h1h8', 'a2a1', 'a2b1',\n",
        "    'a2c1', 'a2b2', 'a2c2', 'a2d2', 'a2e2', 'a2f2', 'a2g2',\n",
        "    'a2h2', 'a2a3', 'a2b3', 'a2c3', 'a2a4', 'a2b4', 'a2c4',\n",
        "    'a2a5', 'a2d5', 'a2a6', 'a2e6', 'a2a7', 'a2f7', 'a2a8',\n",
        "    'a2g8', 'b2a1', 'b2b1', 'b2c1', 'b2d1', 'b2a2', 'b2c2',\n",
        "    'b2d2', 'b2e2', 'b2f2', 'b2g2', 'b2h2', 'b2a3', 'b2b3',\n",
        "    'b2c3', 'b2d3', 'b2a4', 'b2b4', 'b2c4', 'b2d4', 'b2b5',\n",
        "    'b2e5', 'b2b6', 'b2f6', 'b2b7', 'b2g7', 'b2b8', 'b2h8',\n",
        "    'c2a1', 'c2b1', 'c2c1', 'c2d1', 'c2e1', 'c2a2', 'c2b2',\n",
        "    'c2d2', 'c2e2', 'c2f2', 'c2g2', 'c2h2', 'c2a3', 'c2b3',\n",
        "    'c2c3', 'c2d3', 'c2e3', 'c2a4', 'c2b4', 'c2c4', 'c2d4',\n",
        "    'c2e4', 'c2c5', 'c2f5', 'c2c6', 'c2g6', 'c2c7', 'c2h7',\n",
        "    'c2c8', 'd2b1', 'd2c1', 'd2d1', 'd2e1', 'd2f1', 'd2a2',\n",
        "    'd2b2', 'd2c2', 'd2e2', 'd2f2', 'd2g2', 'd2h2', 'd2b3',\n",
        "    'd2c3', 'd2d3', 'd2e3', 'd2f3', 'd2b4', 'd2c4', 'd2d4',\n",
        "    'd2e4', 'd2f4', 'd2a5', 'd2d5', 'd2g5', 'd2d6', 'd2h6',\n",
        "    'd2d7', 'd2d8', 'e2c1', 'e2d1', 'e2e1', 'e2f1', 'e2g1',\n",
        "    'e2a2', 'e2b2', 'e2c2', 'e2d2', 'e2f2', 'e2g2', 'e2h2',\n",
        "    'e2c3', 'e2d3', 'e2e3', 'e2f3', 'e2g3', 'e2c4', 'e2d4',\n",
        "    'e2e4', 'e2f4', 'e2g4', 'e2b5', 'e2e5', 'e2h5', 'e2a6',\n",
        "    'e2e6', 'e2e7', 'e2e8', 'f2d1', 'f2e1', 'f2f1', 'f2g1',\n",
        "    'f2h1', 'f2a2', 'f2b2', 'f2c2', 'f2d2', 'f2e2', 'f2g2',\n",
        "    'f2h2', 'f2d3', 'f2e3', 'f2f3', 'f2g3', 'f2h3', 'f2d4',\n",
        "    'f2e4', 'f2f4', 'f2g4', 'f2h4', 'f2c5', 'f2f5', 'f2b6',\n",
        "    'f2f6', 'f2a7', 'f2f7', 'f2f8', 'g2e1', 'g2f1', 'g2g1',\n",
        "    'g2h1', 'g2a2', 'g2b2', 'g2c2', 'g2d2', 'g2e2', 'g2f2',\n",
        "    'g2h2', 'g2e3', 'g2f3', 'g2g3', 'g2h3', 'g2e4', 'g2f4',\n",
        "    'g2g4', 'g2h4', 'g2d5', 'g2g5', 'g2c6', 'g2g6', 'g2b7',\n",
        "    'g2g7', 'g2a8', 'g2g8', 'h2f1', 'h2g1', 'h2h1', 'h2a2',\n",
        "    'h2b2', 'h2c2', 'h2d2', 'h2e2', 'h2f2', 'h2g2', 'h2f3',\n",
        "    'h2g3', 'h2h3', 'h2f4', 'h2g4', 'h2h4', 'h2e5', 'h2h5',\n",
        "    'h2d6', 'h2h6', 'h2c7', 'h2h7', 'h2b8', 'h2h8', 'a3a1',\n",
        "    'a3b1', 'a3c1', 'a3a2', 'a3b2', 'a3c2', 'a3b3', 'a3c3',\n",
        "    'a3d3', 'a3e3', 'a3f3', 'a3g3', 'a3h3', 'a3a4', 'a3b4',\n",
        "    'a3c4', 'a3a5', 'a3b5', 'a3c5', 'a3a6', 'a3d6', 'a3a7',\n",
        "    'a3e7', 'a3a8', 'a3f8', 'b3a1', 'b3b1', 'b3c1', 'b3d1',\n",
        "    'b3a2', 'b3b2', 'b3c2', 'b3d2', 'b3a3', 'b3c3', 'b3d3',\n",
        "    'b3e3', 'b3f3', 'b3g3', 'b3h3', 'b3a4', 'b3b4', 'b3c4',\n",
        "    'b3d4', 'b3a5', 'b3b5', 'b3c5', 'b3d5', 'b3b6', 'b3e6',\n",
        "    'b3b7', 'b3f7', 'b3b8', 'b3g8', 'c3a1', 'c3b1', 'c3c1',\n",
        "    'c3d1', 'c3e1', 'c3a2', 'c3b2', 'c3c2', 'c3d2', 'c3e2',\n",
        "    'c3a3', 'c3b3', 'c3d3', 'c3e3', 'c3f3', 'c3g3', 'c3h3',\n",
        "    'c3a4', 'c3b4', 'c3c4', 'c3d4', 'c3e4', 'c3a5', 'c3b5',\n",
        "    'c3c5', 'c3d5', 'c3e5', 'c3c6', 'c3f6', 'c3c7', 'c3g7',\n",
        "    'c3c8', 'c3h8', 'd3b1', 'd3c1', 'd3d1', 'd3e1', 'd3f1',\n",
        "    'd3b2', 'd3c2', 'd3d2', 'd3e2', 'd3f2', 'd3a3', 'd3b3',\n",
        "    'd3c3', 'd3e3', 'd3f3', 'd3g3', 'd3h3', 'd3b4', 'd3c4',\n",
        "    'd3d4', 'd3e4', 'd3f4', 'd3b5', 'd3c5', 'd3d5', 'd3e5',\n",
        "    'd3f5', 'd3a6', 'd3d6', 'd3g6', 'd3d7', 'd3h7', 'd3d8',\n",
        "    'e3c1', 'e3d1', 'e3e1', 'e3f1', 'e3g1', 'e3c2', 'e3d2',\n",
        "    'e3e2', 'e3f2', 'e3g2', 'e3a3', 'e3b3', 'e3c3', 'e3d3',\n",
        "    'e3f3', 'e3g3', 'e3h3', 'e3c4', 'e3d4', 'e3e4', 'e3f4',\n",
        "    'e3g4', 'e3c5', 'e3d5', 'e3e5', 'e3f5', 'e3g5', 'e3b6',\n",
        "    'e3e6', 'e3h6', 'e3a7', 'e3e7', 'e3e8', 'f3d1', 'f3e1',\n",
        "    'f3f1', 'f3g1', 'f3h1', 'f3d2', 'f3e2', 'f3f2', 'f3g2',\n",
        "    'f3h2', 'f3a3', 'f3b3', 'f3c3', 'f3d3', 'f3e3', 'f3g3',\n",
        "    'f3h3', 'f3d4', 'f3e4', 'f3f4', 'f3g4', 'f3h4', 'f3d5',\n",
        "    'f3e5', 'f3f5', 'f3g5', 'f3h5', 'f3c6', 'f3f6', 'f3b7',\n",
        "    'f3f7', 'f3a8', 'f3f8', 'g3e1', 'g3f1', 'g3g1', 'g3h1',\n",
        "    'g3e2', 'g3f2', 'g3g2', 'g3h2', 'g3a3', 'g3b3', 'g3c3',\n",
        "    'g3d3', 'g3e3', 'g3f3', 'g3h3', 'g3e4', 'g3f4', 'g3g4',\n",
        "    'g3h4', 'g3e5', 'g3f5', 'g3g5', 'g3h5', 'g3d6', 'g3g6',\n",
        "    'g3c7', 'g3g7', 'g3b8', 'g3g8', 'h3f1', 'h3g1', 'h3h1',\n",
        "    'h3f2', 'h3g2', 'h3h2', 'h3a3', 'h3b3', 'h3c3', 'h3d3',\n",
        "    'h3e3', 'h3f3', 'h3g3', 'h3f4', 'h3g4', 'h3h4', 'h3f5',\n",
        "    'h3g5', 'h3h5', 'h3e6', 'h3h6', 'h3d7', 'h3h7', 'h3c8',\n",
        "    'h3h8', 'a4a1', 'a4d1', 'a4a2', 'a4b2', 'a4c2', 'a4a3',\n",
        "    'a4b3', 'a4c3', 'a4b4', 'a4c4', 'a4d4', 'a4e4', 'a4f4',\n",
        "    'a4g4', 'a4h4', 'a4a5', 'a4b5', 'a4c5', 'a4a6', 'a4b6',\n",
        "    'a4c6', 'a4a7', 'a4d7', 'a4a8', 'a4e8', 'b4b1', 'b4e1',\n",
        "    'b4a2', 'b4b2', 'b4c2', 'b4d2', 'b4a3', 'b4b3', 'b4c3',\n",
        "    'b4d3', 'b4a4', 'b4c4', 'b4d4', 'b4e4', 'b4f4', 'b4g4',\n",
        "    'b4h4', 'b4a5', 'b4b5', 'b4c5', 'b4d5', 'b4a6', 'b4b6',\n",
        "    'b4c6', 'b4d6', 'b4b7', 'b4e7', 'b4b8', 'b4f8', 'c4c1',\n",
        "    'c4f1', 'c4a2', 'c4b2', 'c4c2', 'c4d2', 'c4e2', 'c4a3',\n",
        "    'c4b3', 'c4c3', 'c4d3', 'c4e3', 'c4a4', 'c4b4', 'c4d4',\n",
        "    'c4e4', 'c4f4', 'c4g4', 'c4h4', 'c4a5', 'c4b5', 'c4c5',\n",
        "    'c4d5', 'c4e5', 'c4a6', 'c4b6', 'c4c6', 'c4d6', 'c4e6',\n",
        "    'c4c7', 'c4f7', 'c4c8', 'c4g8', 'd4a1', 'd4d1', 'd4g1',\n",
        "    'd4b2', 'd4c2', 'd4d2', 'd4e2', 'd4f2', 'd4b3', 'd4c3',\n",
        "    'd4d3', 'd4e3', 'd4f3', 'd4a4', 'd4b4', 'd4c4', 'd4e4',\n",
        "    'd4f4', 'd4g4', 'd4h4', 'd4b5', 'd4c5', 'd4d5', 'd4e5',\n",
        "    'd4f5', 'd4b6', 'd4c6', 'd4d6', 'd4e6', 'd4f6', 'd4a7',\n",
        "    'd4d7', 'd4g7', 'd4d8', 'd4h8', 'e4b1', 'e4e1', 'e4h1',\n",
        "    'e4c2', 'e4d2', 'e4e2', 'e4f2', 'e4g2', 'e4c3', 'e4d3',\n",
        "    'e4e3', 'e4f3', 'e4g3', 'e4a4', 'e4b4', 'e4c4', 'e4d4',\n",
        "    'e4f4', 'e4g4', 'e4h4', 'e4c5', 'e4d5', 'e4e5', 'e4f5',\n",
        "    'e4g5', 'e4c6', 'e4d6', 'e4e6', 'e4f6', 'e4g6', 'e4b7',\n",
        "    'e4e7', 'e4h7', 'e4a8', 'e4e8', 'f4c1', 'f4f1', 'f4d2',\n",
        "    'f4e2', 'f4f2', 'f4g2', 'f4h2', 'f4d3', 'f4e3', 'f4f3',\n",
        "    'f4g3', 'f4h3', 'f4a4', 'f4b4', 'f4c4', 'f4d4', 'f4e4',\n",
        "    'f4g4', 'f4h4', 'f4d5', 'f4e5', 'f4f5', 'f4g5', 'f4h5',\n",
        "    'f4d6', 'f4e6', 'f4f6', 'f4g6', 'f4h6', 'f4c7', 'f4f7',\n",
        "    'f4b8', 'f4f8', 'g4d1', 'g4g1', 'g4e2', 'g4f2', 'g4g2',\n",
        "    'g4h2', 'g4e3', 'g4f3', 'g4g3', 'g4h3', 'g4a4', 'g4b4',\n",
        "    'g4c4', 'g4d4', 'g4e4', 'g4f4', 'g4h4', 'g4e5', 'g4f5',\n",
        "    'g4g5', 'g4h5', 'g4e6', 'g4f6', 'g4g6', 'g4h6', 'g4d7',\n",
        "    'g4g7', 'g4c8', 'g4g8', 'h4e1', 'h4h1', 'h4f2', 'h4g2',\n",
        "    'h4h2', 'h4f3', 'h4g3', 'h4h3', 'h4a4', 'h4b4', 'h4c4',\n",
        "    'h4d4', 'h4e4', 'h4f4', 'h4g4', 'h4f5', 'h4g5', 'h4h5',\n",
        "    'h4f6', 'h4g6', 'h4h6', 'h4e7', 'h4h7', 'h4d8', 'h4h8',\n",
        "    'a5a1', 'a5e1', 'a5a2', 'a5d2', 'a5a3', 'a5b3', 'a5c3',\n",
        "    'a5a4', 'a5b4', 'a5c4', 'a5b5', 'a5c5', 'a5d5', 'a5e5',\n",
        "    'a5f5', 'a5g5', 'a5h5', 'a5a6', 'a5b6', 'a5c6', 'a5a7',\n",
        "    'a5b7', 'a5c7', 'a5a8', 'a5d8', 'b5b1', 'b5f1', 'b5b2',\n",
        "    'b5e2', 'b5a3', 'b5b3', 'b5c3', 'b5d3', 'b5a4', 'b5b4',\n",
        "    'b5c4', 'b5d4', 'b5a5', 'b5c5', 'b5d5', 'b5e5', 'b5f5',\n",
        "    'b5g5', 'b5h5', 'b5a6', 'b5b6', 'b5c6', 'b5d6', 'b5a7',\n",
        "    'b5b7', 'b5c7', 'b5d7', 'b5b8', 'b5e8', 'c5c1', 'c5g1',\n",
        "    'c5c2', 'c5f2', 'c5a3', 'c5b3', 'c5c3', 'c5d3', 'c5e3',\n",
        "    'c5a4', 'c5b4', 'c5c4', 'c5d4', 'c5e4', 'c5a5', 'c5b5',\n",
        "    'c5d5', 'c5e5', 'c5f5', 'c5g5', 'c5h5', 'c5a6', 'c5b6',\n",
        "    'c5c6', 'c5d6', 'c5e6', 'c5a7', 'c5b7', 'c5c7', 'c5d7',\n",
        "    'c5e7', 'c5c8', 'c5f8', 'd5d1', 'd5h1', 'd5a2', 'd5d2',\n",
        "    'd5g2', 'd5b3', 'd5c3', 'd5d3', 'd5e3', 'd5f3', 'd5b4',\n",
        "    'd5c4', 'd5d4', 'd5e4', 'd5f4', 'd5a5', 'd5b5', 'd5c5',\n",
        "    'd5e5', 'd5f5', 'd5g5', 'd5h5', 'd5b6', 'd5c6', 'd5d6',\n",
        "    'd5e6', 'd5f6', 'd5b7', 'd5c7', 'd5d7', 'd5e7', 'd5f7',\n",
        "    'd5a8', 'd5d8', 'd5g8', 'e5a1', 'e5e1', 'e5b2', 'e5e2',\n",
        "    'e5h2', 'e5c3', 'e5d3', 'e5e3', 'e5f3', 'e5g3', 'e5c4',\n",
        "    'e5d4', 'e5e4', 'e5f4', 'e5g4', 'e5a5', 'e5b5', 'e5c5',\n",
        "    'e5d5', 'e5f5', 'e5g5', 'e5h5', 'e5c6', 'e5d6', 'e5e6',\n",
        "    'e5f6', 'e5g6', 'e5c7', 'e5d7', 'e5e7', 'e5f7', 'e5g7',\n",
        "    'e5b8', 'e5e8', 'e5h8', 'f5b1', 'f5f1', 'f5c2', 'f5f2',\n",
        "    'f5d3', 'f5e3', 'f5f3', 'f5g3', 'f5h3', 'f5d4', 'f5e4',\n",
        "    'f5f4', 'f5g4', 'f5h4', 'f5a5', 'f5b5', 'f5c5', 'f5d5',\n",
        "    'f5e5', 'f5g5', 'f5h5', 'f5d6', 'f5e6', 'f5f6', 'f5g6',\n",
        "    'f5h6', 'f5d7', 'f5e7', 'f5f7', 'f5g7', 'f5h7', 'f5c8',\n",
        "    'f5f8', 'g5c1', 'g5g1', 'g5d2', 'g5g2', 'g5e3', 'g5f3',\n",
        "    'g5g3', 'g5h3', 'g5e4', 'g5f4', 'g5g4', 'g5h4', 'g5a5',\n",
        "    'g5b5', 'g5c5', 'g5d5', 'g5e5', 'g5f5', 'g5h5', 'g5e6',\n",
        "    'g5f6', 'g5g6', 'g5h6', 'g5e7', 'g5f7', 'g5g7', 'g5h7',\n",
        "    'g5d8', 'g5g8', 'h5d1', 'h5h1', 'h5e2', 'h5h2', 'h5f3',\n",
        "    'h5g3', 'h5h3', 'h5f4', 'h5g4', 'h5h4', 'h5a5', 'h5b5',\n",
        "    'h5c5', 'h5d5', 'h5e5', 'h5f5', 'h5g5', 'h5f6', 'h5g6',\n",
        "    'h5h6', 'h5f7', 'h5g7', 'h5h7', 'h5e8', 'h5h8', 'a6a1',\n",
        "    'a6f1', 'a6a2', 'a6e2', 'a6a3', 'a6d3', 'a6a4', 'a6b4',\n",
        "    'a6c4', 'a6a5', 'a6b5', 'a6c5', 'a6b6', 'a6c6', 'a6d6',\n",
        "    'a6e6', 'a6f6', 'a6g6', 'a6h6', 'a6a7', 'a6b7', 'a6c7',\n",
        "    'a6a8', 'a6b8', 'a6c8', 'b6b1', 'b6g1', 'b6b2', 'b6f2',\n",
        "    'b6b3', 'b6e3', 'b6a4', 'b6b4', 'b6c4', 'b6d4', 'b6a5',\n",
        "    'b6b5', 'b6c5', 'b6d5', 'b6a6', 'b6c6', 'b6d6', 'b6e6',\n",
        "    'b6f6', 'b6g6', 'b6h6', 'b6a7', 'b6b7', 'b6c7', 'b6d7',\n",
        "    'b6a8', 'b6b8', 'b6c8', 'b6d8', 'c6c1', 'c6h1', 'c6c2',\n",
        "    'c6g2', 'c6c3', 'c6f3', 'c6a4', 'c6b4', 'c6c4', 'c6d4',\n",
        "    'c6e4', 'c6a5', 'c6b5', 'c6c5', 'c6d5', 'c6e5', 'c6a6',\n",
        "    'c6b6', 'c6d6', 'c6e6', 'c6f6', 'c6g6', 'c6h6', 'c6a7',\n",
        "    'c6b7', 'c6c7', 'c6d7', 'c6e7', 'c6a8', 'c6b8', 'c6c8',\n",
        "    'c6d8', 'c6e8', 'd6d1', 'd6d2', 'd6h2', 'd6a3', 'd6d3',\n",
        "    'd6g3', 'd6b4', 'd6c4', 'd6d4', 'd6e4', 'd6f4', 'd6b5',\n",
        "    'd6c5', 'd6d5', 'd6e5', 'd6f5', 'd6a6', 'd6b6', 'd6c6',\n",
        "    'd6e6', 'd6f6', 'd6g6', 'd6h6', 'd6b7', 'd6c7', 'd6d7',\n",
        "    'd6e7', 'd6f7', 'd6b8', 'd6c8', 'd6d8', 'd6e8', 'd6f8',\n",
        "    'e6e1', 'e6a2', 'e6e2', 'e6b3', 'e6e3', 'e6h3', 'e6c4',\n",
        "    'e6d4', 'e6e4', 'e6f4', 'e6g4', 'e6c5', 'e6d5', 'e6e5',\n",
        "    'e6f5', 'e6g5', 'e6a6', 'e6b6', 'e6c6', 'e6d6', 'e6f6',\n",
        "    'e6g6', 'e6h6', 'e6c7', 'e6d7', 'e6e7', 'e6f7', 'e6g7',\n",
        "    'e6c8', 'e6d8', 'e6e8', 'e6f8', 'e6g8', 'f6a1', 'f6f1',\n",
        "    'f6b2', 'f6f2', 'f6c3', 'f6f3', 'f6d4', 'f6e4', 'f6f4',\n",
        "    'f6g4', 'f6h4', 'f6d5', 'f6e5', 'f6f5', 'f6g5', 'f6h5',\n",
        "    'f6a6', 'f6b6', 'f6c6', 'f6d6', 'f6e6', 'f6g6', 'f6h6',\n",
        "    'f6d7', 'f6e7', 'f6f7', 'f6g7', 'f6h7', 'f6d8', 'f6e8',\n",
        "    'f6f8', 'f6g8', 'f6h8', 'g6b1', 'g6g1', 'g6c2', 'g6g2',\n",
        "    'g6d3', 'g6g3', 'g6e4', 'g6f4', 'g6g4', 'g6h4', 'g6e5',\n",
        "    'g6f5', 'g6g5', 'g6h5', 'g6a6', 'g6b6', 'g6c6', 'g6d6',\n",
        "    'g6e6', 'g6f6', 'g6h6', 'g6e7', 'g6f7', 'g6g7', 'g6h7',\n",
        "    'g6e8', 'g6f8', 'g6g8', 'g6h8', 'h6c1', 'h6h1', 'h6d2',\n",
        "    'h6h2', 'h6e3', 'h6h3', 'h6f4', 'h6g4', 'h6h4', 'h6f5',\n",
        "    'h6g5', 'h6h5', 'h6a6', 'h6b6', 'h6c6', 'h6d6', 'h6e6',\n",
        "    'h6f6', 'h6g6', 'h6f7', 'h6g7', 'h6h7', 'h6f8', 'h6g8',\n",
        "    'h6h8', 'a7a1', 'a7g1', 'a7a2', 'a7f2', 'a7a3', 'a7e3',\n",
        "    'a7a4', 'a7d4', 'a7a5', 'a7b5', 'a7c5', 'a7a6', 'a7b6',\n",
        "    'a7c6', 'a7b7', 'a7c7', 'a7d7', 'a7e7', 'a7f7', 'a7g7',\n",
        "    'a7h7', 'a7a8', 'a7b8', 'a7c8', 'b7b1', 'b7h1', 'b7b2',\n",
        "    'b7g2', 'b7b3', 'b7f3', 'b7b4', 'b7e4', 'b7a5', 'b7b5',\n",
        "    'b7c5', 'b7d5', 'b7a6', 'b7b6', 'b7c6', 'b7d6', 'b7a7',\n",
        "    'b7c7', 'b7d7', 'b7e7', 'b7f7', 'b7g7', 'b7h7', 'b7a8',\n",
        "    'b7b8', 'b7c8', 'b7d8', 'c7c1', 'c7c2', 'c7h2', 'c7c3',\n",
        "    'c7g3', 'c7c4', 'c7f4', 'c7a5', 'c7b5', 'c7c5', 'c7d5',\n",
        "    'c7e5', 'c7a6', 'c7b6', 'c7c6', 'c7d6', 'c7e6', 'c7a7',\n",
        "    'c7b7', 'c7d7', 'c7e7', 'c7f7', 'c7g7', 'c7h7', 'c7a8',\n",
        "    'c7b8', 'c7c8', 'c7d8', 'c7e8', 'd7d1', 'd7d2', 'd7d3',\n",
        "    'd7h3', 'd7a4', 'd7d4', 'd7g4', 'd7b5', 'd7c5', 'd7d5',\n",
        "    'd7e5', 'd7f5', 'd7b6', 'd7c6', 'd7d6', 'd7e6', 'd7f6',\n",
        "    'd7a7', 'd7b7', 'd7c7', 'd7e7', 'd7f7', 'd7g7', 'd7h7',\n",
        "    'd7b8', 'd7c8', 'd7d8', 'd7e8', 'd7f8', 'e7e1', 'e7e2',\n",
        "    'e7a3', 'e7e3', 'e7b4', 'e7e4', 'e7h4', 'e7c5', 'e7d5',\n",
        "    'e7e5', 'e7f5', 'e7g5', 'e7c6', 'e7d6', 'e7e6', 'e7f6',\n",
        "    'e7g6', 'e7a7', 'e7b7', 'e7c7', 'e7d7', 'e7f7', 'e7g7',\n",
        "    'e7h7', 'e7c8', 'e7d8', 'e7e8', 'e7f8', 'e7g8', 'f7f1',\n",
        "    'f7a2', 'f7f2', 'f7b3', 'f7f3', 'f7c4', 'f7f4', 'f7d5',\n",
        "    'f7e5', 'f7f5', 'f7g5', 'f7h5', 'f7d6', 'f7e6', 'f7f6',\n",
        "    'f7g6', 'f7h6', 'f7a7', 'f7b7', 'f7c7', 'f7d7', 'f7e7',\n",
        "    'f7g7', 'f7h7', 'f7d8', 'f7e8', 'f7f8', 'f7g8', 'f7h8',\n",
        "    'g7a1', 'g7g1', 'g7b2', 'g7g2', 'g7c3', 'g7g3', 'g7d4',\n",
        "    'g7g4', 'g7e5', 'g7f5', 'g7g5', 'g7h5', 'g7e6', 'g7f6',\n",
        "    'g7g6', 'g7h6', 'g7a7', 'g7b7', 'g7c7', 'g7d7', 'g7e7',\n",
        "    'g7f7', 'g7h7', 'g7e8', 'g7f8', 'g7g8', 'g7h8', 'h7b1',\n",
        "    'h7h1', 'h7c2', 'h7h2', 'h7d3', 'h7h3', 'h7e4', 'h7h4',\n",
        "    'h7f5', 'h7g5', 'h7h5', 'h7f6', 'h7g6', 'h7h6', 'h7a7',\n",
        "    'h7b7', 'h7c7', 'h7d7', 'h7e7', 'h7f7', 'h7g7', 'h7f8',\n",
        "    'h7g8', 'h7h8', 'a8a1', 'a8h1', 'a8a2', 'a8g2', 'a8a3',\n",
        "    'a8f3', 'a8a4', 'a8e4', 'a8a5', 'a8d5', 'a8a6', 'a8b6',\n",
        "    'a8c6', 'a8a7', 'a8b7', 'a8c7', 'a8b8', 'a8c8', 'a8d8',\n",
        "    'a8e8', 'a8f8', 'a8g8', 'a8h8', 'b8b1', 'b8b2', 'b8h2',\n",
        "    'b8b3', 'b8g3', 'b8b4', 'b8f4', 'b8b5', 'b8e5', 'b8a6',\n",
        "    'b8b6', 'b8c6', 'b8d6', 'b8a7', 'b8b7', 'b8c7', 'b8d7',\n",
        "    'b8a8', 'b8c8', 'b8d8', 'b8e8', 'b8f8', 'b8g8', 'b8h8',\n",
        "    'c8c1', 'c8c2', 'c8c3', 'c8h3', 'c8c4', 'c8g4', 'c8c5',\n",
        "    'c8f5', 'c8a6', 'c8b6', 'c8c6', 'c8d6', 'c8e6', 'c8a7',\n",
        "    'c8b7', 'c8c7', 'c8d7', 'c8e7', 'c8a8', 'c8b8', 'c8d8',\n",
        "    'c8e8', 'c8f8', 'c8g8', 'c8h8', 'd8d1', 'd8d2', 'd8d3',\n",
        "    'd8d4', 'd8h4', 'd8a5', 'd8d5', 'd8g5', 'd8b6', 'd8c6',\n",
        "    'd8d6', 'd8e6', 'd8f6', 'd8b7', 'd8c7', 'd8d7', 'd8e7',\n",
        "    'd8f7', 'd8a8', 'd8b8', 'd8c8', 'd8e8', 'd8f8', 'd8g8',\n",
        "    'd8h8', 'e8e1', 'e8e2', 'e8e3', 'e8a4', 'e8e4', 'e8b5',\n",
        "    'e8e5', 'e8h5', 'e8c6', 'e8d6', 'e8e6', 'e8f6', 'e8g6',\n",
        "    'e8c7', 'e8d7', 'e8e7', 'e8f7', 'e8g7', 'e8a8', 'e8b8',\n",
        "    'e8c8', 'e8d8', 'e8f8', 'e8g8', 'e8h8', 'f8f1', 'f8f2',\n",
        "    'f8a3', 'f8f3', 'f8b4', 'f8f4', 'f8c5', 'f8f5', 'f8d6',\n",
        "    'f8e6', 'f8f6', 'f8g6', 'f8h6', 'f8d7', 'f8e7', 'f8f7',\n",
        "    'f8g7', 'f8h7', 'f8a8', 'f8b8', 'f8c8', 'f8d8', 'f8e8',\n",
        "    'f8g8', 'f8h8', 'g8g1', 'g8a2', 'g8g2', 'g8b3', 'g8g3',\n",
        "    'g8c4', 'g8g4', 'g8d5', 'g8g5', 'g8e6', 'g8f6', 'g8g6',\n",
        "    'g8h6', 'g8e7', 'g8f7', 'g8g7', 'g8h7', 'g8a8', 'g8b8',\n",
        "    'g8c8', 'g8d8', 'g8e8', 'g8f8', 'g8h8', 'h8a1', 'h8h1',\n",
        "    'h8b2', 'h8h2', 'h8c3', 'h8h3', 'h8d4', 'h8h4', 'h8e5',\n",
        "    'h8h5', 'h8f6', 'h8g6', 'h8h6', 'h8f7', 'h8g7', 'h8h7',\n",
        "    'h8a8', 'h8b8', 'h8c8', 'h8d8', 'h8e8', 'h8f8', 'h8g8',\n",
        "    'a7a8q', 'a7a8r', 'a7a8b', 'a7b8q', 'a7b8r', 'a7b8b', 'b7a8q',\n",
        "    'b7a8r', 'b7a8b', 'b7b8q', 'b7b8r', 'b7b8b', 'b7c8q', 'b7c8r',\n",
        "    'b7c8b', 'c7b8q', 'c7b8r', 'c7b8b', 'c7c8q', 'c7c8r', 'c7c8b',\n",
        "    'c7d8q', 'c7d8r', 'c7d8b', 'd7c8q', 'd7c8r', 'd7c8b', 'd7d8q',\n",
        "    'd7d8r', 'd7d8b', 'd7e8q', 'd7e8r', 'd7e8b', 'e7d8q', 'e7d8r',\n",
        "    'e7d8b', 'e7e8q', 'e7e8r', 'e7e8b', 'e7f8q', 'e7f8r', 'e7f8b',\n",
        "    'f7e8q', 'f7e8r', 'f7e8b', 'f7f8q', 'f7f8r', 'f7f8b', 'f7g8q',\n",
        "    'f7g8r', 'f7g8b', 'g7f8q', 'g7f8r', 'g7f8b', 'g7g8q', 'g7g8r',\n",
        "    'g7g8b', 'g7h8q', 'g7h8r', 'g7h8b', 'h7g8q', 'h7g8r', 'h7g8b',\n",
        "    'h7h8q', 'h7h8r', 'h7h8b'\n",
        "]\n",
        "\n",
        "# White, no castling\n",
        "_uci_to_idx_wn = dict((uci, idx) for idx, uci in enumerate(_idx_to_move_wn))\n",
        "\n",
        "# White, castling\n",
        "_uci_to_idx_wc = dict((uci, idx) for idx, uci in enumerate(_idx_to_move_wn))\n",
        "_uci_to_idx_wc['e1g1'], _uci_to_idx_wc['e1h1'] = _uci_to_idx_wc['e1h1'], _uci_to_idx_wc['e1g1']\n",
        "_uci_to_idx_wc['e1c1'], _uci_to_idx_wc['e1a1'] = _uci_to_idx_wc['e1a1'], _uci_to_idx_wc['e1c1'] \n",
        "\n",
        "\n",
        "# Black, no castling\n",
        "_idx_to_move_bn = []\n",
        "for move in _idx_to_move_wn:\n",
        "    c0,r0,c1,r1,p = move[0],int(move[1]),move[2],int(move[3]),move[4:]\n",
        "    r0 = 9 - r0\n",
        "    r1 = 9 - r1\n",
        "    _idx_to_move_bn.append('{}{}{}{}{}'.format(c0,r0,c1,r1,p))\n",
        "_uci_to_idx_bn = dict((uci, idx) for idx, uci in enumerate(_idx_to_move_bn))\n",
        "\n",
        "# Black, castling\n",
        "_uci_to_idx_bc = dict((uci, idx) for idx, uci in enumerate(_idx_to_move_bn))\n",
        "_uci_to_idx_bc['e8g8'], _uci_to_idx_bc['e8h8'] = _uci_to_idx_bc['e8h8'], _uci_to_idx_bc['e8g8']\n",
        "_uci_to_idx_bc['e8c8'], _uci_to_idx_bc['e8a8'] = _uci_to_idx_bc['e8a8'], _uci_to_idx_bc['e8c8'] \n",
        "\n",
        "_uci_to_idx = [_uci_to_idx_wn, _uci_to_idx_wc, _uci_to_idx_bn, _uci_to_idx_bc]\n",
        "\n",
        "import collections\n",
        "import numpy as np\n",
        "import chess\n",
        "from chess import Move\n",
        "import struct\n",
        "# from lcztools._uci_to_idx import uci_to_idx as _uci_to_idx\n",
        "import zlib\n",
        "\n",
        "flat_planes = []\n",
        "for i in range(256):\n",
        "    flat_planes.append(np.ones((8,8), dtype=np.uint8)*i)\n",
        "\n",
        "LeelaBoardData = collections.namedtuple('LeelaBoardData',\n",
        "                            'plane_bytes repetition '\n",
        "                            'transposition_key us_ooo us_oo them_ooo them_oo '\n",
        "                            'side_to_move rule50_count')\n",
        "\n",
        "def pc_board_property(propertyname):\n",
        "    '''Create a property based on self.pc_board'''\n",
        "    def prop(self):\n",
        "        return getattr(self.pc_board, propertyname)\n",
        "    return property(prop)\n",
        "    \n",
        "class LeelaBoard:\n",
        "    turn = pc_board_property('turn')\n",
        "    move_stack = pc_board_property('move_stack')\n",
        "    _plane_bytes_struct = struct.Struct('>Q')\n",
        "    \n",
        "    def __init__(self, leela_board = None, *args, **kwargs):\n",
        "        '''If leela_board is passed as an argument, return a copy'''\n",
        "        self.pc_board = chess.Board(*args, **kwargs)\n",
        "        self.lcz_stack = []\n",
        "        self._lcz_transposition_counter = collections.Counter()\n",
        "        self._lcz_push()\n",
        "        self.is_game_over = self.pc_method('is_game_over')\n",
        "        self.can_claim_draw = self.pc_method('can_claim_draw')\n",
        "        self.generate_legal_moves = self.pc_method('generate_legal_moves')\n",
        "                \n",
        "    def copy(self, history=7):\n",
        "        \"\"\"Note! Currently the copy constructor uses pc_board.copy(stack=False), which makes pops impossible\"\"\"\n",
        "        cls = type(self)\n",
        "        copied = cls.__new__(cls)\n",
        "        copied.pc_board = self.pc_board.copy(stack=False)\n",
        "        copied.pc_board.stack[:] = self.pc_board.stack[-history:]\n",
        "        copied.pc_board.move_stack[:] = self.pc_board.move_stack[-history:]\n",
        "        copied.lcz_stack = self.lcz_stack[-history:]\n",
        "        copied._lcz_transposition_counter = self._lcz_transposition_counter.copy()\n",
        "        copied.is_game_over = copied.pc_method('is_game_over')\n",
        "        copied.can_claim_draw = copied.pc_method('can_claim_draw')\n",
        "        copied.generate_legal_moves = copied.pc_method('generate_legal_moves')        \n",
        "        return copied\n",
        "\n",
        "    def pc_method(self, methodname):\n",
        "        '''Return attribute of self.pc_board, useful for copying method bindings'''\n",
        "        return getattr(self.pc_board, methodname)\n",
        "    \n",
        "    def is_threefold(self):\n",
        "        transposition_key = self.pc_board._transposition_key()\n",
        "        return self._lcz_transposition_counter[transposition_key] >= 3\n",
        "    \n",
        "    def is_fifty_moves(self):\n",
        "        return self.pc_board.halfmove_clock >= 100\n",
        "    \n",
        "    def is_draw(self):\n",
        "        return self.is_threefold() or self.is_fifty_moves()\n",
        "\n",
        "    def push(self, move):\n",
        "        self.pc_board.push(move)\n",
        "        self._lcz_push()\n",
        "\n",
        "    def push_uci(self, uci):\n",
        "        # don't check for legality - it takes much longer to run...\n",
        "        # self.pc_board.push_uci(uci)\n",
        "        self.pc_board.push(Move.from_uci(uci))\n",
        "        self._lcz_push()\n",
        "\n",
        "    def push_san(self, san):\n",
        "        self.pc_board.push_san(san)\n",
        "        self._lcz_push()\n",
        "\n",
        "    def pop(self):\n",
        "        result = self.pc_board.pop()\n",
        "        _lcz_data = self.lcz_stack.pop()\n",
        "        self._lcz_transposition_counter.subtract((_lcz_data.transposition_key,))\n",
        "        return result\n",
        "\n",
        "    def _plane_bytes_iter(self):\n",
        "        \"\"\"Get plane bytes... used for _lcz_push\"\"\"\n",
        "        pack = self._plane_bytes_struct.pack\n",
        "        pieces_mask = self.pc_board.pieces_mask\n",
        "        for color in (True, False):\n",
        "            for piece_type in range(1,7):\n",
        "                byts = pack(pieces_mask(piece_type, color))\n",
        "                yield byts\n",
        "\n",
        "    def _lcz_push(self):\n",
        "        \"\"\"Push data onto the lcz data stack after pushing board moves\"\"\"\n",
        "        transposition_key = self.pc_board._transposition_key()\n",
        "        self._lcz_transposition_counter.update((transposition_key,))\n",
        "        repetitions = self._lcz_transposition_counter[transposition_key] - 1\n",
        "        # side_to_move = 0 if we're white, 1 if we're black\n",
        "        side_to_move = 0 if self.pc_board.turn else 1\n",
        "        rule50_count = self.pc_board.halfmove_clock\n",
        "        # Figure out castling rights\n",
        "        if not side_to_move:\n",
        "            # we're white\n",
        "            _c = self.pc_board.castling_rights\n",
        "            us_ooo, us_oo = (_c>>chess.A1) & 1, (_c>>chess.H1) & 1\n",
        "            them_ooo, them_oo = (_c>>chess.A8) & 1, (_c>>chess.H8) & 1\n",
        "        else: \n",
        "            # We're black\n",
        "            _c = self.pc_board.castling_rights\n",
        "            us_ooo, us_oo = (_c>>chess.A8) & 1, (_c>>chess.H8) & 1\n",
        "            them_ooo, them_oo = (_c>>chess.A1) & 1, (_c>>chess.H1) & 1\n",
        "        # Create 13 planes... 6 us, 6 them, repetitions>=1\n",
        "        plane_bytes = b''.join(self._plane_bytes_iter())\n",
        "        repetition = (repetitions>=1)\n",
        "        lcz_data = LeelaBoardData(\n",
        "            plane_bytes, repetition=repetition,\n",
        "            transposition_key=transposition_key,\n",
        "            us_ooo=us_ooo, us_oo=us_oo, them_ooo=them_ooo, them_oo=them_oo,\n",
        "            side_to_move=side_to_move, rule50_count=rule50_count\n",
        "        )\n",
        "        self.lcz_stack.append(lcz_data)\n",
        "        \n",
        "    def serialize_features(self):\n",
        "        '''Get compacted bytes representation of input planes'''\n",
        "        planes = []\n",
        "        curdata = self.lcz_stack[-1]\n",
        "        bytes_false_true = bytes([False]), bytes([True])\n",
        "        bytes_per_history = 97\n",
        "        total_plane_bytes = bytes_per_history * 8\n",
        "        def bytes_iter():\n",
        "            plane_bytes_yielded = 0\n",
        "            for data in self.lcz_stack[-1:-9:-1]:\n",
        "                yield data.plane_bytes\n",
        "                yield bytes_false_true[data.repetition]\n",
        "                plane_bytes_yielded += bytes_per_history\n",
        "            # 104 total piece planes... fill in missing with 0s\n",
        "            yield bytes(total_plane_bytes - plane_bytes_yielded)\n",
        "            # Yield the rest of the constant planes\n",
        "            yield np.packbits((curdata.us_ooo,\n",
        "                             curdata.us_oo,\n",
        "                             curdata.them_ooo,\n",
        "                             curdata.them_oo,\n",
        "                             curdata.side_to_move)).tobytes()\n",
        "            yield chr(curdata.rule50_count).encode()\n",
        "        return b''.join(bytes_iter())\n",
        "    \n",
        "    @classmethod\n",
        "    def deserialize_features(cls, serialized):\n",
        "        planes_stack = []\n",
        "        rule50_count = serialized[-1]  # last byte is rule 50\n",
        "        board_attrs = np.unpackbits(memoryview(serialized[-2:-1]))  # second to last byte\n",
        "        us_ooo, us_oo, them_ooo, them_oo, side_to_move = board_attrs[:5]\n",
        "        bytes_per_history = 97\n",
        "        for history_idx in range(0, bytes_per_history*8, bytes_per_history):\n",
        "            plane_bytes = serialized[history_idx:history_idx+96]\n",
        "            repetition = serialized[history_idx+96]\n",
        "            if not side_to_move:\n",
        "                # we're white\n",
        "                planes = (np.unpackbits(memoryview(plane_bytes))[::-1]\n",
        "                                        .reshape(12, 8, 8)[::-1])                \n",
        "            else:\n",
        "                # We're black\n",
        "                planes = (np.unpackbits(memoryview(plane_bytes))[::-1]\n",
        "                                        .reshape(12, 8, 8)[::-1]\n",
        "                                        .reshape(2,6,8,8)[::-1,:,::-1]\n",
        "                                        .reshape(12, 8,8))\n",
        "            planes_stack.append(planes)\n",
        "            planes_stack.append([flat_planes[repetition]])\n",
        "        planes_stack.append([flat_planes[us_ooo],\n",
        "            flat_planes[us_oo],\n",
        "            flat_planes[them_ooo],\n",
        "            flat_planes[them_oo],\n",
        "            flat_planes[side_to_move],\n",
        "            flat_planes[rule50_count],\n",
        "            flat_planes[0],\n",
        "            flat_planes[1]])     \n",
        "        planes = np.concatenate(planes_stack)\n",
        "        return planes                \n",
        "        \n",
        "    def lcz_features(self):\n",
        "        '''Get neural network input planes as uint8'''\n",
        "        # print(list(self._planes_iter()))\n",
        "        planes_stack = []\n",
        "        curdata = self.lcz_stack[-1]\n",
        "        planes_yielded = 0\n",
        "        for data in self.lcz_stack[-1:-9:-1]:\n",
        "            plane_bytes = data.plane_bytes\n",
        "            if not curdata.side_to_move:\n",
        "                # we're white\n",
        "                planes = (np.unpackbits(memoryview(plane_bytes))[::-1]\n",
        "                                        .reshape(12, 8, 8)[::-1])                \n",
        "            else:\n",
        "                # We're black\n",
        "                planes = (np.unpackbits(memoryview(plane_bytes))[::-1]\n",
        "                                        .reshape(12, 8, 8)[::-1]\n",
        "                                        .reshape(2,6,8,8)[::-1,:,::-1]\n",
        "                                        .reshape(12, 8,8))\n",
        "            planes_stack.append(planes)\n",
        "            planes_stack.append([flat_planes[data.repetition]])\n",
        "            planes_yielded += 13\n",
        "        empty_planes = [flat_planes[0] for _ in range(104-planes_yielded)]\n",
        "        if empty_planes:\n",
        "            planes_stack.append(empty_planes)\n",
        "        # Yield the rest of the constant planes\n",
        "        planes_stack.append([flat_planes[curdata.us_ooo],\n",
        "            flat_planes[curdata.us_oo],\n",
        "            flat_planes[curdata.them_ooo],\n",
        "            flat_planes[curdata.them_oo],\n",
        "            flat_planes[curdata.side_to_move],\n",
        "            flat_planes[curdata.rule50_count],\n",
        "            flat_planes[0],\n",
        "            flat_planes[1]])     \n",
        "        planes = np.concatenate(planes_stack)\n",
        "        return planes\n",
        "\n",
        "    def lcz_uci_to_idx(self, uci_list):\n",
        "        # Return list of NN policy output indexes for this board position, given uci_list\n",
        "        \n",
        "        # TODO: Perhaps it's possible to just add the uci knight promotion move to the index dict\n",
        "        # currently knight promotions are not in the dict \n",
        "        uci_list = [uci.rstrip('n') for uci in uci_list]\n",
        "        \n",
        "        data = self.lcz_stack[-1]\n",
        "        # uci_to_idx_index =\n",
        "        #  White, no-castling => 0\n",
        "        #  White, castling => 1\n",
        "        #  Black, no-castling => 2\n",
        "        #  Black, castling => 3\n",
        "        uci_to_idx_index = (data.us_ooo | data.us_oo) +  2*data.side_to_move\n",
        "        uci_idx_dct = _uci_to_idx[uci_to_idx_index]\n",
        "        return [uci_idx_dct[m] for m in uci_list]\n",
        "    \n",
        "    @classmethod\n",
        "    def compress_features(cls, features):\n",
        "        \"\"\"Compress a features array as returned from lcz_features method\"\"\"\n",
        "        features_8 = features.astype(np.uint8)\n",
        "        # Simple compression would do this...\n",
        "        # return zlib.compress(features_8)\n",
        "        piece_plane_bytes = np.packbits(features_8[:-8]).tobytes()\n",
        "        scalar_bytes = features_8[-8:][:,0,0].tobytes()\n",
        "        compressed = zlib.compress(piece_plane_bytes + scalar_bytes)\n",
        "        return compressed\n",
        "    \n",
        "    @classmethod\n",
        "    def decompress_features(cls, compressed_features):\n",
        "        \"\"\"Decompress a compressed features array from compress_features\"\"\"\n",
        "        decompressed = zlib.decompress(compressed_features)\n",
        "        # Simple decompression would do this\n",
        "        # return np.frombuffer(decompressed, dtype=np.uint8).astype(np.float32).reshape(-1,8,8)\n",
        "        piece_plane_bytes = decompressed[:-8]\n",
        "        scalar_bytes = decompressed[-8:]\n",
        "        piece_plane_arr = np.unpackbits(memoryview(piece_plane_bytes))\n",
        "        scalar_arr = np.frombuffer(scalar_bytes, dtype=np.uint8).repeat(64)\n",
        "        result = np.concatenate((piece_plane_arr, scalar_arr)).astype(np.float32).reshape(-1,8,8)\n",
        "        return result\n",
        "    \n",
        "    def unicode(self):\n",
        "        if self.pc_board.is_game_over() or self.is_draw():\n",
        "            result = self.pc_board.result(claim_draw=True)\n",
        "            turnstring = 'Result: {}'.format(result)\n",
        "        else:\n",
        "            turnstring = 'Turn: {}'.format('White' if self.pc_board.turn else 'Black') \n",
        "        boardstr = self.pc_board.unicode() + \"\\n\" + turnstring\n",
        "        return boardstr\n",
        "\n",
        "    def __repr__(self):\n",
        "        return \"LeelaBoard('{}')\".format(self.pc_board.fen())\n",
        "\n",
        "    def _repr_svg_(self):\n",
        "        return self.pc_board._repr_svg_()\n",
        "\n",
        "    def __str__(self):\n",
        "        if self.pc_board.is_game_over() or self.is_draw():\n",
        "            result = self.pc_board.result(claim_draw=True)\n",
        "            turnstring = 'Result: {}'.format(result)\n",
        "        else:\n",
        "            turnstring = 'Turn: {}'.format('White' if self.pc_board.turn else 'Black') \n",
        "        boardstr = self.pc_board.__str__() + \"\\n\" + turnstring\n",
        "        return boardstr\n",
        "    \n",
        "    def __eq__(self, other):\n",
        "        return self.get_hash_key() == other.get_hash_key()\n",
        "    \n",
        "    def __hash__(self):\n",
        "        return hash(self.get_hash_key())\n",
        "\n",
        "    def get_hash_key(self):\n",
        "        transposition_key = self.pc_board._transposition_key() \n",
        "        return (transposition_key +\n",
        "                (self._lcz_transposition_counter[transposition_key], self.pc_board.halfmove_clock) +\n",
        "                tuple(self.pc_board.move_stack[-7:])\n",
        "                )\n",
        "\n"
      ]
    },
    {
      "cell_type": "code",
      "execution_count": 11,
      "metadata": {
        "cellView": "form",
        "id": "KlQfvAAZlurD"
      },
      "outputs": [],
      "source": [
        "#@title GE2E loss\n",
        "\n",
        "import torch\n",
        "import torch.nn as nn\n",
        "import torch.nn.functional as F\n",
        "\n",
        "class GE2ELoss(nn.Module):\n",
        "\n",
        "    def __init__(self, init_w=10.0, init_b=-5.0, loss_method='softmax'):\n",
        "        '''\n",
        "        Implementation of the Generalized End-to-End loss defined in https://arxiv.org/abs/1710.10467 [1]\n",
        "        Accepts an input of size (N, M, D)\n",
        "            where N is the number of speakers in the batch,\n",
        "            M is the number of utterances per speaker,\n",
        "            and D is the dimensionality of the embedding vector (e.g. d-vector)\n",
        "        Args:\n",
        "            - init_w (float): defines the initial value of w in Equation (5) of [1]\n",
        "            - init_b (float): definies the initial value of b in Equation (5) of [1]\n",
        "        '''\n",
        "        super(GE2ELoss, self).__init__()\n",
        "        self.w = nn.Parameter(torch.tensor(init_w))\n",
        "        self.b = nn.Parameter(torch.tensor(init_b))\n",
        "        self.loss_method = loss_method\n",
        "\n",
        "        assert self.loss_method in ['softmax', 'contrast']\n",
        "\n",
        "        if self.loss_method == 'softmax':\n",
        "            self.embed_loss = self.embed_loss_softmax\n",
        "        if self.loss_method == 'contrast':\n",
        "            self.embed_loss = self.embed_loss_contrast\n",
        "\n",
        "    def calc_new_centroids(self, dvecs, centroids, spkr, utt):\n",
        "        '''\n",
        "        Calculates the new centroids excluding the reference utterance\n",
        "        '''\n",
        "        excl = torch.cat((dvecs[spkr,:utt], dvecs[spkr,utt+1:]))\n",
        "        excl = torch.mean(excl, 0)\n",
        "        new_centroids = []\n",
        "        for i, centroid in enumerate(centroids):\n",
        "            if i == spkr:\n",
        "                new_centroids.append(excl)\n",
        "            else:\n",
        "                new_centroids.append(centroid)\n",
        "        return torch.stack(new_centroids)\n",
        "\n",
        "    def calc_cosine_sim(self, dvecs, centroids):\n",
        "        '''\n",
        "        Make the cosine similarity matrix with dims (N,M,N)\n",
        "        '''\n",
        "        cos_sim_matrix = []\n",
        "        for spkr_idx, speaker in enumerate(dvecs):\n",
        "            cs_row = []\n",
        "            for utt_idx, utterance in enumerate(speaker):\n",
        "                new_centroids = self.calc_new_centroids(dvecs, centroids, spkr_idx, utt_idx)\n",
        "                # vector based cosine similarity for speed\n",
        "                cs_row.append(torch.clamp(torch.mm(utterance.unsqueeze(1).transpose(0,1), new_centroids.transpose(0,1)) / (torch.norm(utterance) * torch.norm(new_centroids, dim=1)), 1e-6))\n",
        "            cs_row = torch.cat(cs_row, dim=0)\n",
        "            cos_sim_matrix.append(cs_row)\n",
        "        return torch.stack(cos_sim_matrix)\n",
        "\n",
        "    def embed_loss_softmax(self, dvecs, cos_sim_matrix):\n",
        "        '''\n",
        "        Calculates the loss on each embedding $L(e_{ji})$ by taking softmax\n",
        "        '''\n",
        "        N, M, _ = dvecs.shape\n",
        "        L = []\n",
        "        for j in range(N):\n",
        "            L_row = []\n",
        "            for i in range(M):\n",
        "                L_row.append(-F.log_softmax(cos_sim_matrix[j,i], 0)[j])\n",
        "            L_row = torch.stack(L_row)\n",
        "            L.append(L_row)\n",
        "        return torch.stack(L)\n",
        "\n",
        "    def embed_loss_contrast(self, dvecs, cos_sim_matrix):\n",
        "        ''' \n",
        "        Calculates the loss on each embedding $L(e_{ji})$ by contrast loss with closest centroid\n",
        "        '''\n",
        "        N, M, _ = dvecs.shape\n",
        "        L = []\n",
        "        for j in range(N):\n",
        "            L_row = []\n",
        "            for i in range(M):\n",
        "                centroids_sigmoids = torch.sigmoid(cos_sim_matrix[j,i])\n",
        "                excl_centroids_sigmoids = torch.cat((centroids_sigmoids[:j], centroids_sigmoids[j+1:]))\n",
        "                L_row.append(1. - torch.sigmoid(cos_sim_matrix[j,i,j]) + torch.max(excl_centroids_sigmoids))\n",
        "            L_row = torch.stack(L_row)\n",
        "            L.append(L_row)\n",
        "        return torch.stack(L)\n",
        "\n",
        "    def forward(self, dvecs):\n",
        "        '''\n",
        "        Calculates the GE2E loss for an input of dimensions (num_speakers, num_utts_per_speaker, dvec_feats)\n",
        "        '''\n",
        "        #Calculate centroids\n",
        "        centroids = torch.mean(dvecs, 1)\n",
        "\n",
        "        #Calculate the cosine similarity matrix\n",
        "        cos_sim_matrix = self.calc_cosine_sim(dvecs, centroids)\n",
        "        torch.clamp(self.w, 1e-6)\n",
        "        cos_sim_matrix = cos_sim_matrix * self.w + self.b\n",
        "        L = self.embed_loss(dvecs, cos_sim_matrix)\n",
        "        return L.sum()"
      ]
    },
    {
      "cell_type": "code",
      "execution_count": 13,
      "metadata": {
        "id": "eLg8VA_BWr3F"
      },
      "outputs": [],
      "source": [
        "from torch import nn, optim\n",
        "import pytorch_lightning as pl\n",
        "import torchmetrics\n",
        "from pytorch_lightning.callbacks import BasePredictionWriter, ModelCheckpoint\n",
        "\n",
        "# Input: batch_size x n_moves x 24 x 8 x 8\n",
        "\n",
        "class ResidualBlock(nn.Module):\n",
        "  def __init__(self, num_channels):\n",
        "    super().__init__()\n",
        "    self.conv1 = nn.LazyConv2d(num_channels, kernel_size=3, padding=1,stride=1)\n",
        "    self.bn1 = nn.LazyBatchNorm2d()\n",
        "    self.relu = nn.ReLU()\n",
        "    self.conv2 = nn.LazyConv2d(num_channels, kernel_size=3, padding=1, stride=1)\n",
        "    self.bn2 = nn.LazyBatchNorm2d()\n",
        "\n",
        "  def forward(self, X):\n",
        "    Y = self.relu(self.bn1(self.conv1(X)))\n",
        "    Y = self.bn2(self.conv2(Y))\n",
        "    Y += X\n",
        "    return self.relu(Y)\n",
        "\n",
        "class ChessModel(pl.LightningModule):\n",
        "  def __init__(self, move_embed_dim = 320, num_channels_res = 64, game_embed_dim = 512, lstm_hidden_dim = 1024):\n",
        "    super().__init__()\n",
        "    \n",
        "    self.conv = nn.Sequential(\n",
        "        nn.LazyConv2d(num_channels_res, kernel_size = 3, padding = 1, stride = 1),\n",
        "        nn.ReLU(),\n",
        "        ResidualBlock(num_channels_res), # output.shape = (64,8,8)\n",
        "        ResidualBlock(num_channels_res),\n",
        "        ResidualBlock(num_channels_res),\n",
        "        ResidualBlock(num_channels_res),\n",
        "        ResidualBlock(num_channels_res),\n",
        "        ResidualBlock(num_channels_res)\n",
        "    )\n",
        "\n",
        "    self.global_pooling = nn.AdaptiveAvgPool2d(output_size=(1,1))\n",
        "    self.fc = nn.Linear(num_channels_res, move_embed_dim)\n",
        "    self.lstm = nn.LSTM(move_embed_dim, lstm_hidden_dim, batch_first = True)\n",
        "    self.last_layer = nn.Linear(lstm_hidden_dim, game_embed_dim)\n",
        "\n",
        "    self.ge2e_loss = GE2ELoss()\n",
        "\n",
        "    self.train_accuracy = torchmetrics.Accuracy()\n",
        "    self.val_accuracy = torchmetrics.Accuracy()\n",
        "    self.save_hyperparameters()\n",
        "\n",
        "  def forward(self, x):\n",
        "    lstm_input_list = []\n",
        "    for i in range(x.shape[0]):\n",
        "      move_embedding = self.global_pooling(self.conv(x[i].float()))\n",
        "      move_embedding = self.fc(move_embedding.squeeze(3).squeeze(2))\n",
        "\n",
        "      lstm_input_list.append(move_embedding)\n",
        "\n",
        "    lstm_input = torch.stack(lstm_input_list)\n",
        "    out, (hidden, cell) = self.lstm(lstm_input)\n",
        "\n",
        "    hidden = self.last_layer(hidden.squeeze(0))\n",
        "\n",
        "    return hidden\n",
        "\n",
        "  def training_step(self, batch, batch_idx):\n",
        "    data, labels = batch\n",
        "    data = data.float().squeeze(0)\n",
        "\n",
        "    N = data.shape[0]\n",
        "    M = data.shape[1]\n",
        "\n",
        "    reshaped_batch = torch.reshape(data, (N*M, *data.shape[2:]))\n",
        "    perm = np.random.choice(range(0, N*M), N*M, replace=False)\n",
        "    unperm = list(perm)\n",
        "    for i,j in enumerate(perm):\n",
        "        unperm[j] = i\n",
        "    reshaped_batch = reshaped_batch[perm]\n",
        "    \n",
        "    embeddings = self.forward(reshaped_batch)\n",
        "\n",
        "    embeddings = embeddings[unperm]\n",
        "    embeddings = torch.reshape(embeddings, (N, M, embeddings.size(1)))\n",
        "\n",
        "    loss = self.ge2e_loss(embeddings)\n",
        "\n",
        "    players = torch.unique(labels)\n",
        "\n",
        "    # self.train_accuracy(preds, labels)\n",
        "    self.log('train_loss_step', loss)\n",
        "\n",
        "    return loss\n",
        "\n",
        "  def training_epoch_end(self, outs):\n",
        "    losses = [x['loss'].cpu().detach().numpy() for x in outs]\n",
        "\n",
        "    self.log('train_loss_epoch', np.mean(losses), prog_bar=True, on_step=False, on_epoch=True)\n",
        "\n",
        "  def configure_optimizers(self):\n",
        "    optimizer = optim.Adam(self.parameters(), lr=1e-3)\n",
        "    return optimizer\n",
        "\n",
        "model = ChessModel()\n",
        "\n",
        "chk_path = \"/content/drive/MyDrive/djup/lokaverkefni/state_dicts/10-games-final.ckpt\"\n",
        "model = ChessModel.load_from_checkpoint(chk_path)"
      ]
    },
    {
      "cell_type": "code",
      "execution_count": null,
      "metadata": {
        "colab": {
          "base_uri": "https://localhost:8080/",
          "height": 496,
          "referenced_widgets": [
            "db5892f8ae014bd393da4b5d50ce16a3",
            "02c2c3d226b74708a88b4e144330477e",
            "ee0cd04516c341618a900c80bbefa945",
            "fc57422c83234f78928d6ef19d9249d4",
            "d7302c95bd844428a4d19b68e2583005",
            "4bd97a6f7c5141acbd08316779ff1c27",
            "8e8729f2d3b34e6bb629a07be83ceb22",
            "3bc23cb6481d40758676bd4d30ae6373",
            "9699c683cfcf4e168b74934062770e54",
            "48dd08c395bf4e2da41f43b88468724f",
            "aace2b49f99e4b3282ca9b9048a9baf9"
          ]
        },
        "id": "8pAb1KfRTdO2",
        "outputId": "06ac81b4-427c-442e-925a-29d31ac7533f"
      },
      "outputs": [
        {
          "output_type": "stream",
          "name": "stderr",
          "text": [
            "INFO:pytorch_lightning.utilities.rank_zero:GPU available: True (cuda), used: True\n",
            "INFO:pytorch_lightning.utilities.rank_zero:TPU available: False, using: 0 TPU cores\n",
            "INFO:pytorch_lightning.utilities.rank_zero:IPU available: False, using: 0 IPUs\n",
            "INFO:pytorch_lightning.utilities.rank_zero:HPU available: False, using: 0 HPUs\n",
            "/usr/local/lib/python3.7/dist-packages/pytorch_lightning/callbacks/model_checkpoint.py:604: UserWarning: Checkpoint directory /content/drive/MyDrive/djup/lokaverkefni/20_games exists and is not empty.\n",
            "  rank_zero_warn(f\"Checkpoint directory {dirpath} exists and is not empty.\")\n",
            "INFO:pytorch_lightning.accelerators.cuda:LOCAL_RANK: 0 - CUDA_VISIBLE_DEVICES: [0]\n",
            "INFO:pytorch_lightning.callbacks.model_summary:\n",
            "  | Name           | Type              | Params\n",
            "-----------------------------------------------------\n",
            "0 | conv           | Sequential        | 459 K \n",
            "1 | global_pooling | AdaptiveAvgPool2d | 0     \n",
            "2 | fc             | Linear            | 20.8 K\n",
            "3 | lstm           | LSTM              | 5.5 M \n",
            "4 | last_layer     | Linear            | 524 K \n",
            "5 | ge2e_loss      | GE2ELoss          | 2     \n",
            "6 | train_accuracy | Accuracy          | 0     \n",
            "7 | val_accuracy   | Accuracy          | 0     \n",
            "-----------------------------------------------------\n",
            "6.5 M     Trainable params\n",
            "0         Non-trainable params\n",
            "6.5 M     Total params\n",
            "26.072    Total estimated model params size (MB)\n"
          ]
        },
        {
          "output_type": "display_data",
          "data": {
            "text/plain": [
              "Training: 0it [00:00, ?it/s]"
            ],
            "application/vnd.jupyter.widget-view+json": {
              "version_major": 2,
              "version_minor": 0,
              "model_id": "db5892f8ae014bd393da4b5d50ce16a3"
            }
          },
          "metadata": {}
        },
        {
          "output_type": "stream",
          "name": "stderr",
          "text": [
            "INFO:pytorch_lightning.utilities.rank_zero:`Trainer.fit` stopped: `max_epochs=6` reached.\n"
          ]
        }
      ],
      "source": [
        "ckpt_callback = ModelCheckpoint(dirpath=\"/content/drive/MyDrive/djup/lokaverkefni/20_games/\")\n",
        "\n",
        "trainer = pl.Trainer(limit_train_batches=100, max_epochs=6, accelerator = \"gpu\", logger=wandb_logger, callbacks=[ckpt_callback])\n",
        "trainer.fit(model=model, train_dataloaders=train_dataloader)\n",
        "\n",
        "torch.save(model.state_dict(), f\"/content/drive/MyDrive/djup/lokaverkefni/model_weights_E100_N40_M20.dat\")"
      ]
    },
    {
      "cell_type": "markdown",
      "metadata": {
        "id": "v9sDEpje_f1O"
      },
      "source": [
        "# K-shot learning"
      ]
    },
    {
      "cell_type": "code",
      "execution_count": 13,
      "metadata": {
        "id": "cNuA1e5c_X3U"
      },
      "outputs": [],
      "source": [
        "from sklearn.neighbors import KNeighborsClassifier\n",
        "from sklearn.manifold import TSNE\n",
        "import matplotlib.pyplot as plt\n",
        "from tqdm import tqdm\n",
        "\n",
        "def k_shot_analysis(X_for_embeds, y_for_embeds, X_test, y_test, players, cosine = False):\n",
        "  skip = 100 # num samples used for embedding\n",
        "\n",
        "  k_shot_embeddings_list = []\n",
        "  test_embeddings_list = []\n",
        "\n",
        "  centroids_list = []\n",
        "  ind_to_player = dict()\n",
        "  player_to_ind = dict()\n",
        "\n",
        "  for i, player in enumerate(tqdm(players)):\n",
        "    ind_to_player[i] = player\n",
        "    player_to_ind[player] = i\n",
        "\n",
        "    # 1 - white game, 0 - black game\n",
        "    player_white_games = X_for_embeds[np.logical_and(y_for_embeds[:,0] == player, y_for_embeds[:,1] == 1)]\n",
        "    player_black_games = X_for_embeds[np.logical_and(y_for_embeds[:,0] == player, y_for_embeds[:,1] == 0)]\n",
        "\n",
        "    X_k_shot_player = torch.cat((games_to_planes(player_white_games, black = False), games_to_planes(player_black_games, black = True)), dim = 0)\n",
        "    k_shot_player_embeddings = model(X_k_shot_player).detach().numpy()\n",
        "\n",
        "    player_centroid = np.mean(k_shot_player_embeddings, axis = 0)\n",
        "    centroids_list.append(player_centroid)\n",
        "\n",
        "  centroids = np.array(centroids_list)\n",
        "\n",
        "  metric = 'euclidean'\n",
        "  if cosine:\n",
        "    metric = 'cosine'\n",
        "\n",
        "  knn_clf = KNeighborsClassifier(n_neighbors = 1, metric = metric)\n",
        "  knn_clf.fit(centroids, players)\n",
        "\n",
        "  correct = 0\n",
        "\n",
        "  for i in tqdm(range(0, len(X_test), skip)):\n",
        "    batch_targets = y_test[i:(i+skip)]\n",
        "    batch_games_white = X_test[i:(i+skip)][batch_targets[:,1] == 1]\n",
        "    batch_games_black = X_test[i:(i+skip)][batch_targets[:,1] == 0]\n",
        "    \n",
        "    X_test_batch_white = games_to_planes(batch_games_white, black = False)\n",
        "    y_test_batch_white = batch_targets[batch_targets[:,1] == 1][:,0]\n",
        "\n",
        "    X_test_batch_black = games_to_planes(batch_games_black, black = True)\n",
        "    y_test_batch_black = batch_targets[batch_targets[:,1] == 0][:,0]\n",
        "\n",
        "    X_test_batch = torch.cat((X_test_batch_white, X_test_batch_black), dim = 0)\n",
        "    y_test_batch = np.concatenate((y_test_batch_white, y_test_batch_black), axis = 0)\n",
        "\n",
        "    test_batch_embeddings = model(X_test_batch).detach().numpy()\n",
        "    \n",
        "    correct += np.sum(knn_clf.predict(test_batch_embeddings) == y_test_batch)\n",
        "\n",
        "  return correct / len(X_test)"
      ]
    },
    {
      "cell_type": "code",
      "execution_count": 15,
      "metadata": {
        "colab": {
          "base_uri": "https://localhost:8080/",
          "height": 1000
        },
        "id": "npZHe1VQjk89",
        "outputId": "fe476d48-a8f7-4331-b8a9-477358920a1f"
      },
      "outputs": [
        {
          "output_type": "stream",
          "name": "stderr",
          "text": [
            "100%|██████████| 8/8 [00:19<00:00,  2.48s/it]\n",
            "/usr/local/lib/python3.7/dist-packages/sklearn/manifold/_t_sne.py:827: FutureWarning: 'square_distances' has been introduced in 0.24 to help phase out legacy squaring behavior. The 'legacy' setting will be removed in 1.1 (renaming of 0.26), and the default setting will be changed to True. In 1.3, 'square_distances' will be removed altogether, and distances will be squared by default. Set 'square_distances'=True to silence this warning.\n",
            "  FutureWarning,\n"
          ]
        },
        {
          "output_type": "display_data",
          "data": {
            "text/plain": [
              "<Figure size 576x576 with 1 Axes>"
            ],
            "image/png": "[encoded data removed]"
          },
          "metadata": {}
        },
        {
          "output_type": "stream",
          "name": "stderr",
          "text": [
            "100%|██████████| 8/8 [00:19<00:00,  2.49s/it]\n",
            "/usr/local/lib/python3.7/dist-packages/sklearn/manifold/_t_sne.py:827: FutureWarning: 'square_distances' has been introduced in 0.24 to help phase out legacy squaring behavior. The 'legacy' setting will be removed in 1.1 (renaming of 0.26), and the default setting will be changed to True. In 1.3, 'square_distances' will be removed altogether, and distances will be squared by default. Set 'square_distances'=True to silence this warning.\n",
            "  FutureWarning,\n"
          ]
        },
        {
          "output_type": "display_data",
          "data": {
            "text/plain": [
              "<Figure size 576x576 with 1 Axes>"
            ],
            "image/png": "[encoded data removed]"
          },
          "metadata": {}
        }
      ],
      "source": [
        "from tqdm import tqdm\n",
        "from sklearn.manifold import TSNE\n",
        "import matplotlib.pyplot as plt\n",
        "\n",
        "def vont(X_for_embeds, y_for_embeds, X_test, y_test, players, num_players = 20):\n",
        "  k_shot_embeddings_list = []\n",
        "  test_embeddings_list = []\n",
        "\n",
        "  player_subset = np.random.choice(players, num_players, replace = False)\n",
        "\n",
        "  centroids_list = []\n",
        "  ind_to_player = dict()\n",
        "  player_to_ind = dict()\n",
        "\n",
        "  y_for_embeds_list_subset = []\n",
        "  y_test_list_subset = []\n",
        "\n",
        "  colors = ['brown', 'blue', 'green', 'purple', 'magenta', 'cyan', 'black', 'orange']\n",
        "\n",
        "  centroids_players_list = []\n",
        "\n",
        "  for i, player in enumerate(tqdm(player_subset)):\n",
        "    ind_to_player[i] = player\n",
        "    player_to_ind[player] = i\n",
        "\n",
        "    # 1 - white game, 0 - black game\n",
        "    player_white_games_inds = np.logical_and(y_for_embeds[:,0] == player, y_for_embeds[:,1] == 1)\n",
        "    player_black_games_inds = np.logical_and(y_for_embeds[:,0] == player, y_for_embeds[:,1] == 0)\n",
        "\n",
        "    player_white_games = X_for_embeds[player_white_games_inds]\n",
        "    player_black_games = X_for_embeds[player_black_games_inds]\n",
        "\n",
        "    y_for_embeds_list_subset.append(y_for_embeds[player_white_games_inds])\n",
        "\n",
        "    X_k_shot_player = torch.cat((games_to_planes(player_white_games, black = False), games_to_planes(player_black_games, black = True)), dim = 0)\n",
        "    k_shot_player_embeddings = model(X_k_shot_player).detach().numpy()\n",
        "\n",
        "    player_centroid = np.mean(k_shot_player_embeddings, axis = 0)\n",
        "    centroids_list.append(player_centroid)\n",
        "\n",
        "    player_white_games_test_inds = np.logical_and(y_for_embeds[:,0] == player, y_for_embeds[:,1] == 1)\n",
        "    player_black_games_test_inds = np.logical_and(y_for_embeds[:,0] == player, y_for_embeds[:,1] == 0)\n",
        "\n",
        "    player_white_games_test = X_test[player_white_games_test_inds]\n",
        "    player_black_games_test = X_test[player_black_games_test_inds]\n",
        "\n",
        "    y_test_list_subset.append(y_test[player_white_games_test_inds])\n",
        "    y_test_list_subset.append(y_test[player_black_games_test_inds])\n",
        "\n",
        "    X_test_player = torch.cat((games_to_planes(player_white_games_test, black = False), games_to_planes(player_black_games_test, black = True)), dim = 0)\n",
        "    test_player_embeddings = model(X_test_player).detach().numpy()\n",
        "\n",
        "    test_embeddings_list.append(test_player_embeddings)\n",
        "    centroids_players_list.append(player)\n",
        "\n",
        "  test_embeddings = np.concatenate(test_embeddings_list, axis = 0)\n",
        "  centroids = np.array(centroids_list) \n",
        "\n",
        "  y_for_embeds_subset = np.concatenate(y_for_embeds_list_subset, axis = 0)\n",
        "  y_test_subset = np.concatenate(y_test_list_subset, axis = 0)\n",
        "  centroids_players = np.array(centroids_players_list)\n",
        "\n",
        "  projected = TSNE(n_components=2, learning_rate='auto', init='random', perplexity=30, metric = 'cosine').fit_transform(np.concatenate((test_embeddings, centroids), axis=0))\n",
        "\n",
        "  projected_k_shot = projected[:len(test_embeddings)]\n",
        "  projected_centroids = projected[len(test_embeddings):]\n",
        "\n",
        "\n",
        "  fig, ax = plt.subplots(figsize = (8,8));\n",
        "\n",
        "  plt.scatter(projected_k_shot[:, 0], projected_k_shot[:,1], s=20, c = [colors[player_to_ind[y[0]]] for y in y_test_subset]);\n",
        "  plt.scatter(projected_centroids[:, 0], projected_centroids[:,1], s=200, edgecolors=\"red\", c = [colors[player_to_ind[y]] for y in centroids_players]);\n",
        "  \n",
        "  ax.set_xticks([]);\n",
        "  ax.set_yticks([]);\n",
        "\n",
        "  plt.show();\n",
        "\n",
        "vont(X_seen_for_embeds, y_seen_for_embeds, X_seen_test, y_seen_test, seen_players, num_players = 8)\n",
        "vont(X_unseen_for_embeds, y_unseen_for_embeds, X_unseen_test, y_unseen_test, unseen_players, num_players = 8)"
      ]
    },
    {
      "cell_type": "markdown",
      "source": [
        "# 40 epochs - 40 x 20 - 10 moves - cosine similarity"
      ],
      "metadata": {
        "id": "lxsww4Iq8yjb"
      }
    },
    {
      "cell_type": "code",
      "source": [
        "seen_accuracy = k_shot_analysis(X_seen_for_embeds, y_seen_for_embeds, X_seen_test, y_seen_test, seen_players, cosine = True)"
      ],
      "metadata": {
        "colab": {
          "base_uri": "https://localhost:8080/"
        },
        "id": "S77604ta83N2",
        "outputId": "951772b1-0afe-453f-faf2-69fc40b30e1b"
      },
      "execution_count": 33,
      "outputs": [
        {
          "output_type": "stream",
          "name": "stderr",
          "text": [
            "100%|██████████| 400/400 [06:13<00:00,  1.07it/s]\n",
            "100%|██████████| 200/200 [06:45<00:00,  2.03s/it]\n"
          ]
        }
      ]
    },
    {
      "cell_type": "code",
      "source": [
        "print(f\"Seen players - model: {seen_accuracy} | random: {1/len(seen_players)} | proportion: {seen_accuracy*len(seen_players)}\")"
      ],
      "metadata": {
        "colab": {
          "base_uri": "https://localhost:8080/"
        },
        "id": "oUACt9bH83yt",
        "outputId": "ddf24355-9681-417f-d478-167928973138"
      },
      "execution_count": 34,
      "outputs": [
        {
          "output_type": "stream",
          "name": "stdout",
          "text": [
            "Seen players - model: 0.1335 | random: 0.0025 | proportion: 53.400000000000006\n"
          ]
        }
      ]
    },
    {
      "cell_type": "code",
      "source": [
        "unseen_accuracy = k_shot_analysis(X_unseen_for_embeds, y_unseen_for_embeds, X_unseen_test, y_unseen_test, unseen_players, cosine = True)"
      ],
      "metadata": {
        "colab": {
          "base_uri": "https://localhost:8080/"
        },
        "id": "9I-ejLd6FU4J",
        "outputId": "b9aa26e6-5c19-4ffc-dadc-e6b3b13218df"
      },
      "execution_count": 50,
      "outputs": [
        {
          "output_type": "stream",
          "name": "stderr",
          "text": [
            "100%|██████████| 1870/1870 [26:45<00:00,  1.16it/s]\n",
            "100%|██████████| 935/935 [26:38<00:00,  1.71s/it]\n"
          ]
        }
      ]
    },
    {
      "cell_type": "code",
      "source": [
        "print(f\"Unseen players - model: {unseen_accuracy} | random: {1/len(unseen_players)} | proportion: {unseen_accuracy*len(unseen_players)}\")"
      ],
      "metadata": {
        "colab": {
          "base_uri": "https://localhost:8080/"
        },
        "id": "_YuqVGNkFWoy",
        "outputId": "2e260b01-8853-444e-f391-a75384dc0659"
      },
      "execution_count": 51,
      "outputs": [
        {
          "output_type": "stream",
          "name": "stdout",
          "text": [
            "Unseen players - model: 0.0273475935828877 | random: 0.0005347593582887701 | proportion: 51.14\n"
          ]
        }
      ]
    },
    {
      "cell_type": "markdown",
      "source": [
        "# 40 epochs - 40 x 20 - 20 moves - cosine similarity\n"
      ],
      "metadata": {
        "id": "rSWwmUmUnSwC"
      }
    },
    {
      "cell_type": "code",
      "source": [
        "seen_accuracy = k_shot_analysis(X_seen_for_embeds, y_seen_for_embeds, X_seen_test, y_seen_test, seen_players, cosine = True)"
      ],
      "metadata": {
        "colab": {
          "base_uri": "https://localhost:8080/"
        },
        "id": "0_QkjW8mnXEV",
        "outputId": "36bb95be-1f92-461a-da0d-03158402acdf"
      },
      "execution_count": 20,
      "outputs": [
        {
          "output_type": "stream",
          "name": "stderr",
          "text": [
            "100%|██████████| 400/400 [10:25<00:00,  1.56s/it]\n",
            "100%|██████████| 200/200 [10:40<00:00,  3.20s/it]\n"
          ]
        }
      ]
    },
    {
      "cell_type": "code",
      "source": [
        "print(f\"Seen players - model: {seen_accuracy} | random: {1/len(seen_players)} | proportion: {seen_accuracy*len(seen_players)}\")"
      ],
      "metadata": {
        "colab": {
          "base_uri": "https://localhost:8080/"
        },
        "id": "LQeeJ0s6nhmR",
        "outputId": "e476ad9e-398d-4e1c-e1b1-6dac85d07201"
      },
      "execution_count": 21,
      "outputs": [
        {
          "output_type": "stream",
          "name": "stdout",
          "text": [
            "Seen players - model: 0.12945 | random: 0.0025 | proportion: 51.78\n"
          ]
        }
      ]
    },
    {
      "cell_type": "code",
      "source": [
        "unseen_accuracy = k_shot_analysis(X_unseen_for_embeds, y_unseen_for_embeds, X_unseen_test, y_unseen_test, unseen_players, cosine = True)"
      ],
      "metadata": {
        "colab": {
          "base_uri": "https://localhost:8080/"
        },
        "id": "BS2Mif6Tiy5g",
        "outputId": "de05c706-3817-4ca5-f8b9-da034b4d4009"
      },
      "execution_count": 14,
      "outputs": [
        {
          "output_type": "stream",
          "name": "stderr",
          "text": [
            "100%|██████████| 1870/1870 [35:36<00:00,  1.14s/it]\n",
            "100%|██████████| 935/935 [34:10<00:00,  2.19s/it]\n"
          ]
        }
      ]
    },
    {
      "cell_type": "code",
      "source": [
        "print(f\"Unseen players - model: {unseen_accuracy} | random: {1/len(unseen_players)} | proportion: {unseen_accuracy*len(unseen_players)}\")"
      ],
      "metadata": {
        "colab": {
          "base_uri": "https://localhost:8080/"
        },
        "id": "Zds5pUCSiz5l",
        "outputId": "13bbd184-8345-4328-f7ea-0d37117774e0"
      },
      "execution_count": 15,
      "outputs": [
        {
          "output_type": "stream",
          "name": "stdout",
          "text": [
            "Unseen players - model: 0.02249197860962567 | random: 0.0005347593582887701 | proportion: 42.06\n"
          ]
        }
      ]
    },
    {
      "cell_type": "markdown",
      "source": [
        "# 40 epochs - 40 x 20 - 20 moves"
      ],
      "metadata": {
        "id": "4XjwCGoeDdKn"
      }
    },
    {
      "cell_type": "code",
      "source": [
        "seen_accuracy = k_shot_analysis(X_seen_for_embeds, y_seen_for_embeds, X_seen_test, y_seen_test, seen_players)"
      ],
      "metadata": {
        "id": "WtrcGWRhDnU3",
        "colab": {
          "base_uri": "https://localhost:8080/"
        },
        "outputId": "d6f653ea-1f12-46a8-80e5-806ebc58160e"
      },
      "execution_count": null,
      "outputs": [
        {
          "output_type": "stream",
          "name": "stderr",
          "text": [
            "100%|██████████| 400/400 [12:41<00:00,  1.90s/it]\n",
            "100%|██████████| 200/200 [13:08<00:00,  3.94s/it]\n"
          ]
        }
      ]
    },
    {
      "cell_type": "code",
      "source": [
        "print(f\"Seen players - model: {seen_accuracy} | random: {1/len(seen_players)} | proportion: {seen_accuracy*len(seen_players)}\")"
      ],
      "metadata": {
        "id": "DHuTbIjZDovq",
        "colab": {
          "base_uri": "https://localhost:8080/"
        },
        "outputId": "1b4c8b81-1b24-4ad5-9341-554414c79b52"
      },
      "execution_count": null,
      "outputs": [
        {
          "output_type": "stream",
          "name": "stdout",
          "text": [
            "Seen players - model: 0.1271 | random: 0.0025 | proportion: 50.839999999999996\n"
          ]
        }
      ]
    },
    {
      "cell_type": "code",
      "source": [
        "unseen_accuracy = k_shot_analysis(X_unseen_for_embeds, y_unseen_for_embeds, X_unseen_test, y_unseen_test, unseen_players)"
      ],
      "metadata": {
        "id": "hdQ6gX1XDptp",
        "colab": {
          "base_uri": "https://localhost:8080/"
        },
        "outputId": "7b62906e-36e0-4e69-9711-0346d5d94a0a"
      },
      "execution_count": null,
      "outputs": [
        {
          "output_type": "stream",
          "name": "stderr",
          "text": [
            "100%|██████████| 1870/1870 [46:30<00:00,  1.49s/it]\n",
            "100%|██████████| 935/935 [46:26<00:00,  2.98s/it]\n"
          ]
        }
      ]
    },
    {
      "cell_type": "code",
      "source": [
        "print(f\"Unseen players - model: {unseen_accuracy} | random: {1/len(unseen_players)} | proportion: {unseen_accuracy*len(unseen_players)}\")"
      ],
      "metadata": {
        "id": "3Vuuod0uDqLs",
        "colab": {
          "base_uri": "https://localhost:8080/"
        },
        "outputId": "5e0243c6-8696-405e-b385-681f67482b7d"
      },
      "execution_count": null,
      "outputs": [
        {
          "output_type": "stream",
          "name": "stdout",
          "text": [
            "Unseen players - model: 0.026898395721925133 | random: 0.0005347593582887701 | proportion: 50.3\n"
          ]
        }
      ]
    },
    {
      "cell_type": "markdown",
      "metadata": {
        "id": "7Aufdq9yBJ59"
      },
      "source": [
        "# 40 epochs - 40 x 20 - 10 moves"
      ]
    },
    {
      "cell_type": "code",
      "execution_count": null,
      "metadata": {
        "colab": {
          "base_uri": "https://localhost:8080/"
        },
        "id": "igKo-jZ5ygrd",
        "outputId": "89bfb2d8-71ea-49b6-a063-8638a80149bb"
      },
      "outputs": [
        {
          "name": "stderr",
          "output_type": "stream",
          "text": [
            "100%|██████████| 400/400 [08:00<00:00,  1.20s/it]\n",
            "100%|██████████| 200/200 [08:02<00:00,  2.41s/it]\n"
          ]
        }
      ],
      "source": [
        "seen_accuracy = k_shot_analysis(X_seen_for_embeds, y_seen_for_embeds, X_seen_test, y_seen_test, seen_players)"
      ]
    },
    {
      "cell_type": "code",
      "execution_count": null,
      "metadata": {
        "colab": {
          "base_uri": "https://localhost:8080/"
        },
        "id": "2kEqKwzqyiel",
        "outputId": "86547561-6b90-4e2d-b540-1c7d43b5ebd6"
      },
      "outputs": [
        {
          "name": "stdout",
          "output_type": "stream",
          "text": [
            "Seen players - model: 0.13015 | random: 0.0025 | proportion: 52.059999999999995\n"
          ]
        }
      ],
      "source": [
        "print(f\"Seen players - model: {seen_accuracy} | random: {1/len(seen_players)} | proportion: {seen_accuracy*len(seen_players)}\")"
      ]
    },
    {
      "cell_type": "code",
      "execution_count": null,
      "metadata": {
        "colab": {
          "base_uri": "https://localhost:8080/"
        },
        "id": "m9u6HdHayn-n",
        "outputId": "24fe0af4-0708-47fc-ae37-2bf7ec711e3d"
      },
      "outputs": [
        {
          "name": "stderr",
          "output_type": "stream",
          "text": [
            "100%|██████████| 1870/1870 [37:11<00:00,  1.19s/it]\n",
            "100%|██████████| 935/935 [37:52<00:00,  2.43s/it]\n"
          ]
        }
      ],
      "source": [
        "unseen_accuracy = k_shot_analysis(X_unseen_for_embeds, y_unseen_for_embeds, X_unseen_test, y_unseen_test, unseen_players)"
      ]
    },
    {
      "cell_type": "code",
      "execution_count": null,
      "metadata": {
        "colab": {
          "base_uri": "https://localhost:8080/"
        },
        "id": "OxbXOeXKyoTU",
        "outputId": "88b1a9d7-01d7-43e8-ad73-786ea3af30ba"
      },
      "outputs": [
        {
          "name": "stdout",
          "output_type": "stream",
          "text": [
            "Unseen players - model: 0.027625668449197862 | random: 0.0005347593582887701 | proportion: 51.660000000000004\n"
          ]
        }
      ],
      "source": [
        "print(f\"Unseen players - model: {unseen_accuracy} | random: {1/len(unseen_players)} | proportion: {unseen_accuracy*len(unseen_players)}\")"
      ]
    },
    {
      "cell_type": "markdown",
      "metadata": {
        "id": "QEkLq3IDykIy"
      },
      "source": [
        "# 100 epochs - 10 x 10"
      ]
    },
    {
      "cell_type": "code",
      "execution_count": null,
      "metadata": {
        "colab": {
          "base_uri": "https://localhost:8080/"
        },
        "id": "WfGapcsaaq89",
        "outputId": "627186b5-d801-419a-c390-8386f94cec05"
      },
      "outputs": [
        {
          "name": "stdout",
          "output_type": "stream",
          "text": [
            "Seen players - model: 0.0882 | random: 0.0025 | proportion: 35.28\n"
          ]
        }
      ],
      "source": [
        "print(f\"Seen players - model: {seen_accuracy} | random: {1/len(seen_players)} | proportion: {seen_accuracy*len(seen_players)}\")"
      ]
    },
    {
      "cell_type": "code",
      "execution_count": null,
      "metadata": {
        "id": "gmtTH2of0bcD"
      },
      "outputs": [],
      "source": [
        "unseen_accuracy = k_shot_analysis(X_unseen_for_embeds, y_unseen_for_embeds, X_unseen_test, y_unseen_test, unseen_players)"
      ]
    },
    {
      "cell_type": "code",
      "execution_count": null,
      "metadata": {
        "colab": {
          "base_uri": "https://localhost:8080/"
        },
        "id": "WM9ZjgUK0e2i",
        "outputId": "bba4f1ee-5fed-4755-e485-506e2080c72b"
      },
      "outputs": [
        {
          "name": "stdout",
          "output_type": "stream",
          "text": [
            "Unseen players - model: 0.018962566844919787 | random: 0.0005347593582887701 | proportion: 35.46\n"
          ]
        }
      ],
      "source": [
        "print(f\"Unseen players - model: {unseen_accuracy} | random: {1/len(unseen_players)} | proportion: {unseen_accuracy*len(unseen_players)}\")"
      ]
    }
  ],
  "metadata": {
    "accelerator": "GPU",
    "colab": {
      "provenance": []
    },
    "gpuClass": "premium",
    "kernelspec": {
      "display_name": "Python 3",
      "name": "python3"
    },
    "language_info": {
      "name": "python"
    },
    "widgets": {
      "application/vnd.jupyter.widget-state+json": {
        "db5892f8ae014bd393da4b5d50ce16a3": {
          "model_module": "@jupyter-widgets/controls",
          "model_name": "HBoxModel",
          "model_module_version": "1.5.0",
          "state": {
            "_dom_classes": [],
            "_model_module": "@jupyter-widgets/controls",
            "_model_module_version": "1.5.0",
            "_model_name": "HBoxModel",
            "_view_count": null,
            "_view_module": "@jupyter-widgets/controls",
            "_view_module_version": "1.5.0",
            "_view_name": "HBoxView",
            "box_style": "",
            "children": [
              "IPY_MODEL_02c2c3d226b74708a88b4e144330477e",
              "IPY_MODEL_ee0cd04516c341618a900c80bbefa945",
              "IPY_MODEL_fc57422c83234f78928d6ef19d9249d4"
            ],
            "layout": "IPY_MODEL_d7302c95bd844428a4d19b68e2583005"
          }
        },
        "02c2c3d226b74708a88b4e144330477e": {
          "model_module": "@jupyter-widgets/controls",
          "model_name": "HTMLModel",
          "model_module_version": "1.5.0",
          "state": {
            "_dom_classes": [],
            "_model_module": "@jupyter-widgets/controls",
            "_model_module_version": "1.5.0",
            "_model_name": "HTMLModel",
            "_view_count": null,
            "_view_module": "@jupyter-widgets/controls",
            "_view_module_version": "1.5.0",
            "_view_name": "HTMLView",
            "description": "",
            "description_tooltip": null,
            "layout": "IPY_MODEL_4bd97a6f7c5141acbd08316779ff1c27",
            "placeholder": "​",
            "style": "IPY_MODEL_8e8729f2d3b34e6bb629a07be83ceb22",
            "value": "Epoch 5: 100%"
          }
        },
        "ee0cd04516c341618a900c80bbefa945": {
          "model_module": "@jupyter-widgets/controls",
          "model_name": "FloatProgressModel",
          "model_module_version": "1.5.0",
          "state": {
            "_dom_classes": [],
            "_model_module": "@jupyter-widgets/controls",
            "_model_module_version": "1.5.0",
            "_model_name": "FloatProgressModel",
            "_view_count": null,
            "_view_module": "@jupyter-widgets/controls",
            "_view_module_version": "1.5.0",
            "_view_name": "ProgressView",
            "bar_style": "success",
            "description": "",
            "description_tooltip": null,
            "layout": "IPY_MODEL_3bc23cb6481d40758676bd4d30ae6373",
            "max": 100,
            "min": 0,
            "orientation": "horizontal",
            "style": "IPY_MODEL_9699c683cfcf4e168b74934062770e54",
            "value": 100
          }
        },
        "fc57422c83234f78928d6ef19d9249d4": {
          "model_module": "@jupyter-widgets/controls",
          "model_name": "HTMLModel",
          "model_module_version": "1.5.0",
          "state": {
            "_dom_classes": [],
            "_model_module": "@jupyter-widgets/controls",
            "_model_module_version": "1.5.0",
            "_model_name": "HTMLModel",
            "_view_count": null,
            "_view_module": "@jupyter-widgets/controls",
            "_view_module_version": "1.5.0",
            "_view_name": "HTMLView",
            "description": "",
            "description_tooltip": null,
            "layout": "IPY_MODEL_48dd08c395bf4e2da41f43b88468724f",
            "placeholder": "​",
            "style": "IPY_MODEL_aace2b49f99e4b3282ca9b9048a9baf9",
            "value": " 100/100.0 [16:12&lt;00:00,  9.72s/it, loss=1.9e+03, v_num=0iaz, train_loss_epoch=1.9e+3]"
          }
        },
        "d7302c95bd844428a4d19b68e2583005": {
          "model_module": "@jupyter-widgets/base",
          "model_name": "LayoutModel",
          "model_module_version": "1.2.0",
          "state": {
            "_model_module": "@jupyter-widgets/base",
            "_model_module_version": "1.2.0",
            "_model_name": "LayoutModel",
            "_view_count": null,
            "_view_module": "@jupyter-widgets/base",
            "_view_module_version": "1.2.0",
            "_view_name": "LayoutView",
            "align_content": null,
            "align_items": null,
            "align_self": null,
            "border": null,
            "bottom": null,
            "display": "inline-flex",
            "flex": null,
            "flex_flow": "row wrap",
            "grid_area": null,
            "grid_auto_columns": null,
            "grid_auto_flow": null,
            "grid_auto_rows": null,
            "grid_column": null,
            "grid_gap": null,
            "grid_row": null,
            "grid_template_areas": null,
            "grid_template_columns": null,
            "grid_template_rows": null,
            "height": null,
            "justify_content": null,
            "justify_items": null,
            "left": null,
            "margin": null,
            "max_height": null,
            "max_width": null,
            "min_height": null,
            "min_width": null,
            "object_fit": null,
            "object_position": null,
            "order": null,
            "overflow": null,
            "overflow_x": null,
            "overflow_y": null,
            "padding": null,
            "right": null,
            "top": null,
            "visibility": null,
            "width": "100%"
          }
        },
        "4bd97a6f7c5141acbd08316779ff1c27": {
          "model_module": "@jupyter-widgets/base",
          "model_name": "LayoutModel",
          "model_module_version": "1.2.0",
          "state": {
            "_model_module": "@jupyter-widgets/base",
            "_model_module_version": "1.2.0",
            "_model_name": "LayoutModel",
            "_view_count": null,
            "_view_module": "@jupyter-widgets/base",
            "_view_module_version": "1.2.0",
            "_view_name": "LayoutView",
            "align_content": null,
            "align_items": null,
            "align_self": null,
            "border": null,
            "bottom": null,
            "display": null,
            "flex": null,
            "flex_flow": null,
            "grid_area": null,
            "grid_auto_columns": null,
            "grid_auto_flow": null,
            "grid_auto_rows": null,
            "grid_column": null,
            "grid_gap": null,
            "grid_row": null,
            "grid_template_areas": null,
            "grid_template_columns": null,
            "grid_template_rows": null,
            "height": null,
            "justify_content": null,
            "justify_items": null,
            "left": null,
            "margin": null,
            "max_height": null,
            "max_width": null,
            "min_height": null,
            "min_width": null,
            "object_fit": null,
            "object_position": null,
            "order": null,
            "overflow": null,
            "overflow_x": null,
            "overflow_y": null,
            "padding": null,
            "right": null,
            "top": null,
            "visibility": null,
            "width": null
          }
        },
        "8e8729f2d3b34e6bb629a07be83ceb22": {
          "model_module": "@jupyter-widgets/controls",
          "model_name": "DescriptionStyleModel",
          "model_module_version": "1.5.0",
          "state": {
            "_model_module": "@jupyter-widgets/controls",
            "_model_module_version": "1.5.0",
            "_model_name": "DescriptionStyleModel",
            "_view_count": null,
            "_view_module": "@jupyter-widgets/base",
            "_view_module_version": "1.2.0",
            "_view_name": "StyleView",
            "description_width": ""
          }
        },
        "3bc23cb6481d40758676bd4d30ae6373": {
          "model_module": "@jupyter-widgets/base",
          "model_name": "LayoutModel",
          "model_module_version": "1.2.0",
          "state": {
            "_model_module": "@jupyter-widgets/base",
            "_model_module_version": "1.2.0",
            "_model_name": "LayoutModel",
            "_view_count": null,
            "_view_module": "@jupyter-widgets/base",
            "_view_module_version": "1.2.0",
            "_view_name": "LayoutView",
            "align_content": null,
            "align_items": null,
            "align_self": null,
            "border": null,
            "bottom": null,
            "display": null,
            "flex": "2",
            "flex_flow": null,
            "grid_area": null,
            "grid_auto_columns": null,
            "grid_auto_flow": null,
            "grid_auto_rows": null,
            "grid_column": null,
            "grid_gap": null,
            "grid_row": null,
            "grid_template_areas": null,
            "grid_template_columns": null,
            "grid_template_rows": null,
            "height": null,
            "justify_content": null,
            "justify_items": null,
            "left": null,
            "margin": null,
            "max_height": null,
            "max_width": null,
            "min_height": null,
            "min_width": null,
            "object_fit": null,
            "object_position": null,
            "order": null,
            "overflow": null,
            "overflow_x": null,
            "overflow_y": null,
            "padding": null,
            "right": null,
            "top": null,
            "visibility": null,
            "width": null
          }
        },
        "9699c683cfcf4e168b74934062770e54": {
          "model_module": "@jupyter-widgets/controls",
          "model_name": "ProgressStyleModel",
          "model_module_version": "1.5.0",
          "state": {
            "_model_module": "@jupyter-widgets/controls",
            "_model_module_version": "1.5.0",
            "_model_name": "ProgressStyleModel",
            "_view_count": null,
            "_view_module": "@jupyter-widgets/base",
            "_view_module_version": "1.2.0",
            "_view_name": "StyleView",
            "bar_color": null,
            "description_width": ""
          }
        },
        "48dd08c395bf4e2da41f43b88468724f": {
          "model_module": "@jupyter-widgets/base",
          "model_name": "LayoutModel",
          "model_module_version": "1.2.0",
          "state": {
            "_model_module": "@jupyter-widgets/base",
            "_model_module_version": "1.2.0",
            "_model_name": "LayoutModel",
            "_view_count": null,
            "_view_module": "@jupyter-widgets/base",
            "_view_module_version": "1.2.0",
            "_view_name": "LayoutView",
            "align_content": null,
            "align_items": null,
            "align_self": null,
            "border": null,
            "bottom": null,
            "display": null,
            "flex": null,
            "flex_flow": null,
            "grid_area": null,
            "grid_auto_columns": null,
            "grid_auto_flow": null,
            "grid_auto_rows": null,
            "grid_column": null,
            "grid_gap": null,
            "grid_row": null,
            "grid_template_areas": null,
            "grid_template_columns": null,
            "grid_template_rows": null,
            "height": null,
            "justify_content": null,
            "justify_items": null,
            "left": null,
            "margin": null,
            "max_height": null,
            "max_width": null,
            "min_height": null,
            "min_width": null,
            "object_fit": null,
            "object_position": null,
            "order": null,
            "overflow": null,
            "overflow_x": null,
            "overflow_y": null,
            "padding": null,
            "right": null,
            "top": null,
            "visibility": null,
            "width": null
          }
        },
        "aace2b49f99e4b3282ca9b9048a9baf9": {
          "model_module": "@jupyter-widgets/controls",
          "model_name": "DescriptionStyleModel",
          "model_module_version": "1.5.0",
          "state": {
            "_model_module": "@jupyter-widgets/controls",
            "_model_module_version": "1.5.0",
            "_model_name": "DescriptionStyleModel",
            "_view_count": null,
            "_view_module": "@jupyter-widgets/base",
            "_view_module_version": "1.2.0",
            "_view_name": "StyleView",
            "description_width": ""
          }
        }
      }
    }
  },
  "nbformat": 4,
  "nbformat_minor": 0
}