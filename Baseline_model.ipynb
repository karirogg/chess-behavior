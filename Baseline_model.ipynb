{
  "nbformat": 4,
  "nbformat_minor": 0,
  "metadata": {
    "colab": {
      "provenance": []
    },
    "kernelspec": {
      "name": "python3",
      "display_name": "Python 3"
    },
    "language_info": {
      "name": "python"
    }
  },
  "cells": [
    {
      "cell_type": "code",
      "execution_count": 1,
      "metadata": {
        "colab": {
          "base_uri": "https://localhost:8080/"
        },
        "id": "1pi0H431F9Rz",
        "outputId": "859c0e05-a9a0-4ac1-9fbd-3118f090afc2"
      },
      "outputs": [
        {
          "output_type": "stream",
          "name": "stdout",
          "text": [
            "Mounted at /content/drive/\n"
          ]
        }
      ],
      "source": [
        "from google.colab import drive\n",
        "drive.mount('/content/drive/')"
      ]
    },
    {
      "cell_type": "code",
      "source": [
        "import numpy as np\n",
        "import torch\n",
        "import pickle\n",
        "\n",
        "f = open(\"/content/drive/MyDrive/Colab Notebooks/djúp/lokaverkefni/training_data_2019_data_100000_50.dat\", \"rb\")\n",
        "seen_players, unseen_players, X_seen_train, y_seen_train, X_seen_val, y_seen_val, X_seen_for_embeds, y_seen_for_embeds, X_seen_test, y_seen_test, X_unseen_for_embeds, y_unseen_for_embeds, X_unseen_test, y_unseen_test = pickle.load(f)"
      ],
      "metadata": {
        "id": "nG4Mj8NKGCHL"
      },
      "execution_count": 2,
      "outputs": []
    },
    {
      "cell_type": "code",
      "source": [
        "unseen_players.shape, X_unseen_for_embeds.shape, y_unseen_for_embeds.shape, X_unseen_test.shape, y_unseen_test.shape"
      ],
      "metadata": {
        "id": "HPtIA94oGAHC",
        "colab": {
          "base_uri": "https://localhost:8080/"
        },
        "outputId": "f941b22b-eac4-4ecb-914f-8640c6a53e2d"
      },
      "execution_count": 3,
      "outputs": [
        {
          "output_type": "execute_result",
          "data": {
            "text/plain": [
              "((1870,), (93500, 40), (93500, 2), (93500, 40), (93500, 2))"
            ]
          },
          "metadata": {},
          "execution_count": 3
        }
      ]
    },
    {
      "cell_type": "code",
      "source": [
        "def get_embeddings(unseen_players, X_unseen_for_embeds, y_unseen_for_embeds, binarizer, N):\n",
        "  centr_list = []\n",
        "  corrisponding_player = []\n",
        "  for player in unseen_players:\n",
        "    their_white_games = X_unseen_for_embeds[np.logical_and(y_unseen_for_embeds[:,0] == player, y_unseen_for_embeds[:,1] == 1)][:,0:(2*N):2]\n",
        "    their_black_games = X_unseen_for_embeds[np.logical_and(y_unseen_for_embeds[:,1] == player, y_unseen_for_embeds[:,1] == 0)][:,1:(2*N):2]\n",
        "    their_games = np.vstack([their_white_games, their_black_games])\n",
        "    shape = their_games.shape\n",
        "    their_games_oh = binarizer.transform(their_games.flatten()).reshape(*shape, -1) # We transform here to save RAM\n",
        "    five_hot = np.sum(their_games_oh, axis = 1)\n",
        "    emb = np.array(np.mean(five_hot, axis = 0)).flatten()\n",
        "    centr_list.append(emb)\n",
        "    corrisponding_player.append(player)\n",
        "  return np.array(centr_list), np.array(corrisponding_player)"
      ],
      "metadata": {
        "id": "FFss1O-4UmuL"
      },
      "execution_count": 4,
      "outputs": []
    },
    {
      "cell_type": "code",
      "source": [
        "def inference(unseen_players, X_unseen_test, y_unseen_test, neigh, binarizer, N):\n",
        "  results = []\n",
        "  for player in unseen_players:\n",
        "    their_white_games = X_unseen_test[np.logical_and(y_unseen_test[:,0] == player, y_unseen_test[:,1] == 1)][:,0:(2*N):2]\n",
        "    their_black_games = X_unseen_test[np.logical_and(y_unseen_test[:,0] == player, y_unseen_test[:,1] == 0)][:,1:(2*N):2]\n",
        "    their_games = np.vstack([their_white_games, their_black_games])\n",
        "    shape = their_games.shape\n",
        "    their_games_oh = binarizer.transform(their_games.flatten()).reshape(*shape, -1)\n",
        "    five_hot = np.sum(their_games_oh, axis = 1)\n",
        "    y_pred = neigh.predict(five_hot)\n",
        "    results.append(y_pred == player)\n",
        "  return np.concatenate(results)"
      ],
      "metadata": {
        "id": "5StNEx6daP7C"
      },
      "execution_count": 5,
      "outputs": []
    },
    {
      "cell_type": "markdown",
      "source": [
        "# Running the tests"
      ],
      "metadata": {
        "id": "v6eC2oBfiDsX"
      }
    },
    {
      "cell_type": "code",
      "source": [
        "from sklearn.neighbors import KNeighborsClassifier\n",
        "from sklearn.preprocessing import LabelBinarizer\n",
        "\n",
        "Ns = [5,10,15,20]\n",
        "for N in Ns:\n",
        "    tal = LabelBinarizer()\n",
        "    tal.fit(X_unseen_for_embeds.flatten())\n",
        "    X, y = get_embeddings(unseen_players, X_unseen_for_embeds,y_unseen_for_embeds, tal, N)\n",
        "    neigh = KNeighborsClassifier(n_neighbors=1)\n",
        "    neigh.fit(X, y)\n",
        "    results = inference(unseen_players, X_unseen_test, y_unseen_test, neigh, tal, N)\n",
        "    print(f\"N={N}:\")\n",
        "    print(\"=\"*20)\n",
        "    print(\"Unseen players\")\n",
        "    print(\"Accuracy of the baseline model: \",np.mean(results))\n",
        "    print(\"Accuracy using random guess: \", 1/len(unseen_players))\n",
        "    print(\"Ratio: \", np.mean(results)*len(unseen_players))\n",
        "    print()   \n",
        "    tal = LabelBinarizer()\n",
        "    tal.fit(X_seen_for_embeds.flatten())\n",
        "    X, y = get_embeddings(seen_players, X_seen_for_embeds,y_seen_for_embeds, tal, N)\n",
        "    neigh = KNeighborsClassifier(n_neighbors=1)\n",
        "    neigh.fit(X, y)\n",
        "    results = inference(seen_players, X_seen_test, y_seen_test, neigh, tal, N)\n",
        "    print(\"Seen players\")\n",
        "    print(\"Accuracy of the baseline model: \",np.mean(results))\n",
        "    print(\"Accuracy using random guess: \", 1/len(seen_players))\n",
        "    print(\"Ratio: \", np.mean(results)*len(seen_players))\n",
        "    print(\"_\"*50)\n"
      ],
      "metadata": {
        "colab": {
          "base_uri": "https://localhost:8080/"
        },
        "id": "v1IdWf77iBvX",
        "outputId": "f481b3c6-b778-464f-f736-c424b8228ba4"
      },
      "execution_count": 8,
      "outputs": [
        {
          "output_type": "stream",
          "name": "stdout",
          "text": [
            "N=5:\n",
            "====================\n",
            "Unseen players\n",
            "Accuracy of the baseline model:  0.01544385026737968\n",
            "Accuracy using random guess:  0.0005347593582887701\n",
            "Ratio:  28.88\n",
            "\n",
            "Seen players\n",
            "Accuracy of the baseline model:  0.03795\n",
            "Accuracy using random guess:  0.0025\n",
            "Ratio:  15.18\n",
            "__________________________________________________\n",
            "N=10:\n",
            "====================\n",
            "Unseen players\n",
            "Accuracy of the baseline model:  0.016684491978609627\n",
            "Accuracy using random guess:  0.0005347593582887701\n",
            "Ratio:  31.200000000000003\n",
            "\n",
            "Seen players\n",
            "Accuracy of the baseline model:  0.0329\n",
            "Accuracy using random guess:  0.0025\n",
            "Ratio:  13.16\n",
            "__________________________________________________\n",
            "N=15:\n",
            "====================\n",
            "Unseen players\n",
            "Accuracy of the baseline model:  0.01576470588235294\n",
            "Accuracy using random guess:  0.0005347593582887701\n",
            "Ratio:  29.48\n",
            "\n",
            "Seen players\n",
            "Accuracy of the baseline model:  0.0303\n",
            "Accuracy using random guess:  0.0025\n",
            "Ratio:  12.120000000000001\n",
            "__________________________________________________\n",
            "N=20:\n",
            "====================\n",
            "Unseen players\n",
            "Accuracy of the baseline model:  0.014406417112299466\n",
            "Accuracy using random guess:  0.0005347593582887701\n",
            "Ratio:  26.94\n",
            "\n",
            "Seen players\n",
            "Accuracy of the baseline model:  0.02855\n",
            "Accuracy using random guess:  0.0025\n",
            "Ratio:  11.42\n",
            "__________________________________________________\n"
          ]
        }
      ]
    }
  ]
}